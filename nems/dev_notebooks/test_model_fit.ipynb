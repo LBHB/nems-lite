{
 "cells": [
  {
   "cell_type": "code",
   "execution_count": 1,
   "metadata": {},
   "outputs": [
    {
     "data": {
      "text/plain": [
       "Model()\n",
       "~~~~~~~~~~~~~~~~~~~~~~~~~~~~~~~~~~~~~~~~~~~~~~~~~~~~~~~~~~~~~~~~\n",
       ".layers:\n",
       "\n",
       "\n",
       "\n",
       "WeightChannels(shape=(18, 1))\n",
       "================================\n",
       ".parameters:\n",
       "\n",
       "\n",
       "Parameter(name=coefficients, shape=(18, 1))\n",
       "----------------\n",
       ".prior:     Normal(μ=array(18, 1), σ=array(18, 1))\n",
       ".bounds:    (-inf, inf)\n",
       ".is_frozen: False\n",
       ".values:\n",
       "[[0.]\n",
       " [0.]\n",
       " [0.]\n",
       " [0.]\n",
       " [0.]\n",
       " [0.]\n",
       " [0.]\n",
       " [0.]\n",
       " [0.]\n",
       " [0.]\n",
       " [0.]\n",
       " [0.]\n",
       " [0.]\n",
       " [0.]\n",
       " [0.]\n",
       " [0.]\n",
       " [0.]\n",
       " [0.]]\n",
       "----------------\n",
       "Index: 0\n",
       "----------------\n",
       "\n",
       "\n",
       "================================\n",
       "\n",
       "~~~~~~~~~~~~~~~~~~~~~~~~~~~~~~~~~~~~~~~~~~~~~~~~~~~~~~~~~~~~~~~~"
      ]
     },
     "execution_count": 1,
     "metadata": {},
     "output_type": "execute_result"
    }
   ],
   "source": [
    "import numpy as np\n",
    "\n",
    "from nems import Model\n",
    "\n",
    "def my_complicated_data_loader():\n",
    "    spectrogram = np.random.random(size=(10000, 18))\n",
    "    response = np.random.random(size=(10000, 100))\n",
    "    pupil = np.random.random(size=(10000, 1))\n",
    "    other_state = np.random.choice(['on', 'off'], size=(10000, 1))\n",
    "\n",
    "    return spectrogram, response, pupil, other_state\n",
    "\n",
    "spectrogram, response, pupil, other_state = my_complicated_data_loader()\n",
    "data = {'stimulus': spectrogram, 'response': response, 'state': pupil}\n",
    "\n",
    "model = Model.from_keywords('wc.18x1')\n",
    "model"
   ]
  },
  {
   "cell_type": "code",
   "execution_count": 2,
   "metadata": {},
   "outputs": [],
   "source": [
    "model.fit(data, input_name='stimulus', target_name='response')"
   ]
  },
  {
   "cell_type": "code",
   "execution_count": 3,
   "metadata": {},
   "outputs": [
    {
     "data": {
      "text/plain": [
       "Model()\n",
       "~~~~~~~~~~~~~~~~~~~~~~~~~~~~~~~~~~~~~~~~~~~~~~~~~~~~~~~~~~~~~~~~\n",
       ".layers:\n",
       "\n",
       "\n",
       "\n",
       "WeightChannels(shape=(18, 1))\n",
       "================================\n",
       ".parameters:\n",
       "\n",
       "\n",
       "Parameter(name=coefficients, shape=(18, 1))\n",
       "----------------\n",
       ".prior:     Normal(μ=array(18, 1), σ=array(18, 1))\n",
       ".bounds:    (-inf, inf)\n",
       ".is_frozen: False\n",
       ".values:\n",
       "[[0.05230679]\n",
       " [0.05583751]\n",
       " [0.05055845]\n",
       " [0.05621723]\n",
       " [0.05607423]\n",
       " [0.05764045]\n",
       " [0.05501103]\n",
       " [0.05227394]\n",
       " [0.05726157]\n",
       " [0.05512781]\n",
       " [0.05426146]\n",
       " [0.0533383 ]\n",
       " [0.053393  ]\n",
       " [0.05327488]\n",
       " [0.05328947]\n",
       " [0.05188264]\n",
       " [0.05623755]\n",
       " [0.05781444]]\n",
       "----------------\n",
       "Index: 0\n",
       "----------------\n",
       "\n",
       "\n",
       "================================\n",
       "\n",
       "~~~~~~~~~~~~~~~~~~~~~~~~~~~~~~~~~~~~~~~~~~~~~~~~~~~~~~~~~~~~~~~~"
      ]
     },
     "execution_count": 3,
     "metadata": {},
     "output_type": "execute_result"
    }
   ],
   "source": [
    "model"
   ]
  },
  {
   "cell_type": "code",
   "execution_count": null,
   "metadata": {},
   "outputs": [],
   "source": []
  }
 ],
 "metadata": {
  "kernelspec": {
   "display_name": "Python 3.10.5 ('.nemsenv')",
   "language": "python",
   "name": "python3"
  },
  "language_info": {
   "codemirror_mode": {
    "name": "ipython",
    "version": 3
   },
   "file_extension": ".py",
   "mimetype": "text/x-python",
   "name": "python",
   "nbconvert_exporter": "python",
   "pygments_lexer": "ipython3",
   "version": "3.10.5"
  },
  "orig_nbformat": 4,
  "vscode": {
   "interpreter": {
    "hash": "4ae17e0c3cb5a88cc8facf29c9ec24ba5c55c2ac36f7fd8fd86b95dc7ac4e185"
   }
  }
 },
 "nbformat": 4,
 "nbformat_minor": 2
}
