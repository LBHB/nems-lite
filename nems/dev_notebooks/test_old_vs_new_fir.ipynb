{
 "cells": [
  {
   "cell_type": "code",
   "execution_count": 1,
   "metadata": {},
   "outputs": [
    {
     "data": {
      "text/plain": [
       "Model()\n",
       "~~~~~~~~~~~~~~~~~~~~~~~~~~~~~~~~~~~~~~~~~~~~~~~~~~~~~~~~~~~~~~~~\n",
       ".layers:\n",
       "\n",
       "\n",
       "\n",
       "GaussianWeightChannels(shape=(18, 4))\n",
       "================================\n",
       ".parameters:\n",
       "\n",
       "\n",
       "Parameter(name=mean, shape=(4,))\n",
       "----------------\n",
       ".prior:     Normal(μ=array(4), σ=array(4))\n",
       ".bounds:    (0, 1)\n",
       ".is_frozen: False\n",
       ".values:\n",
       "[0. 0. 0. 0.]\n",
       "----------------\n",
       "Index: 0\n",
       "----------------\n",
       "\n",
       "Parameter(name=std, shape=(4,))\n",
       "----------------\n",
       ".prior:     Normal(μ=array(4), σ=array(4))\n",
       ".bounds:    (0, inf)\n",
       ".is_frozen: False\n",
       ".values:\n",
       "[0. 0. 0. 0.]\n",
       "----------------\n",
       "Index: 0\n",
       "----------------\n",
       "\n",
       "\n",
       "================================\n",
       "\n",
       "\n",
       "\n",
       "FIR(shape=(4, 15))\n",
       "================================\n",
       ".parameters:\n",
       "\n",
       "\n",
       "Parameter(name=coefficients, shape=(4, 15))\n",
       "----------------\n",
       ".prior:     Normal(μ=array(4, 15), σ=array(4, 15))\n",
       ".bounds:    (-inf, inf)\n",
       ".is_frozen: False\n",
       ".values:\n",
       "[[0. 0. 0. 0. 0. 0. 0. 0. 0. 0. 0. 0. 0. 0. 0.]\n",
       " [0. 0. 0. 0. 0. 0. 0. 0. 0. 0. 0. 0. 0. 0. 0.]\n",
       " [0. 0. 0. 0. 0. 0. 0. 0. 0. 0. 0. 0. 0. 0. 0.]\n",
       " [0. 0. 0. 0. 0. 0. 0. 0. 0. 0. 0. 0. 0. 0. 0.]]\n",
       "----------------\n",
       "Index: 0\n",
       "----------------\n",
       "\n",
       "\n",
       "================================\n",
       "\n",
       "~~~~~~~~~~~~~~~~~~~~~~~~~~~~~~~~~~~~~~~~~~~~~~~~~~~~~~~~~~~~~~~~"
      ]
     },
     "execution_count": 1,
     "metadata": {},
     "output_type": "execute_result"
    }
   ],
   "source": [
    "import numpy as np\n",
    "\n",
    "from nems import Model\n",
    "\n",
    "x = np.random.rand(10000, 18)  # fake spectrogram\n",
    "m = Model.from_keywords('wc.18x4.g-fir.4x15')\n",
    "# TODO: shorten model repr? the spaces are nice when there are lots of layers,\n",
    "#       but it makes short models unnecessary long. And/or could probably add\n",
    "#       some code to trim whitespace if less than X-many layers.\n",
    "m  "
   ]
  },
  {
   "cell_type": "code",
   "execution_count": null,
   "metadata": {},
   "outputs": [],
   "source": []
  }
 ],
 "metadata": {
  "kernelspec": {
   "display_name": "Python 3.10.5 ('.nemsenv')",
   "language": "python",
   "name": "python3"
  },
  "language_info": {
   "codemirror_mode": {
    "name": "ipython",
    "version": 3
   },
   "file_extension": ".py",
   "mimetype": "text/x-python",
   "name": "python",
   "nbconvert_exporter": "python",
   "pygments_lexer": "ipython3",
   "version": "3.10.5"
  },
  "orig_nbformat": 4,
  "vscode": {
   "interpreter": {
    "hash": "4ae17e0c3cb5a88cc8facf29c9ec24ba5c55c2ac36f7fd8fd86b95dc7ac4e185"
   }
  }
 },
 "nbformat": 4,
 "nbformat_minor": 2
}
