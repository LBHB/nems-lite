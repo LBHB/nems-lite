{
 "cells": [
  {
   "cell_type": "code",
   "execution_count": null,
   "metadata": {},
   "outputs": [],
   "source": [
    "import numpy as np\n",
    "\n",
    "from nems import Model\n",
    "\n",
    "x = np.random.rand(10000, 18)  # fake spectrogram\n",
    "m = Model.from_keywords('wc.18x4.g-fir.4x15')\n",
    "# TODO: currently all the sample/mean methods still return the samples even if\n",
    "#       inplace=True (the default for model and layer methods). Did that so that\n",
    "#       other code wouldn't need to check if something got returned or not, but\n",
    "#       maybe it would be more intuitive if nothing got returned. Look at pandas\n",
    "#       code again, see what their default is when inplace=True.\n",
    "_ = m.sample_from_priors()\n",
    "# TODO: shorten model repr? the spaces are nice when there are lots of layers,\n",
    "#       but it makes short models unnecessary long. And/or could probably add\n",
    "#       some code to trim whitespace if less than X-many layers.\n",
    "m  "
   ]
  },
  {
   "cell_type": "code",
   "execution_count": null,
   "metadata": {},
   "outputs": [],
   "source": [
    "wc = m.layers[0]\n",
    "fir = m.layers[1]\n",
    "# TODO: have wc, fir not return list if only one?\n",
    "#       wastes operations in Model.evaluate but would\n",
    "#       make testing of individual layers more intuitive\n",
    "y = wc.evaluate(x)[0]\n",
    "z1 = fir.evaluate(y)[0]\n",
    "z2 = fir.old_evaluate(y)[0]\n",
    "np.sum(np.isnan(z1)) + np.sum(np.isnan(z2))  # nans always !="
   ]
  },
  {
   "cell_type": "code",
   "execution_count": null,
   "metadata": {},
   "outputs": [],
   "source": [
    "np.sum(z1 != z2)"
   ]
  },
  {
   "cell_type": "code",
   "execution_count": null,
   "metadata": {},
   "outputs": [],
   "source": []
  }
 ],
 "metadata": {
  "kernelspec": {
   "display_name": "Python 3.10.5 ('.nemsenv')",
   "language": "python",
   "name": "python3"
  },
  "language_info": {
   "codemirror_mode": {
    "name": "ipython",
    "version": 3
   },
   "file_extension": ".py",
   "mimetype": "text/x-python",
   "name": "python",
   "nbconvert_exporter": "python",
   "pygments_lexer": "ipython3",
   "version": "3.10.5"
  },
  "orig_nbformat": 4,
  "vscode": {
   "interpreter": {
    "hash": "4ae17e0c3cb5a88cc8facf29c9ec24ba5c55c2ac36f7fd8fd86b95dc7ac4e185"
   }
  }
 },
 "nbformat": 4,
 "nbformat_minor": 2
}
