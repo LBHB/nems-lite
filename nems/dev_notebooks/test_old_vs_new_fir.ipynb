{
 "cells": [
  {
   "cell_type": "code",
   "execution_count": 1,
   "metadata": {},
   "outputs": [
    {
     "data": {
      "text/plain": [
       "Model()\n",
       "~~~~~~~~~~~~~~~~~~~~~~~~~~~~~~~~~~~~~~~~~~~~~~~~~~~~~~~~~~~~~~~~\n",
       ".layers:\n",
       "\n",
       "\n",
       "\n",
       "GaussianWeightChannels(shape=(18, 4))\n",
       "================================\n",
       ".parameters:\n",
       "\n",
       "\n",
       "Parameter(name=mean, shape=(4,))\n",
       "----------------\n",
       ".prior:     Normal(μ=array(4), σ=array(4))\n",
       ".bounds:    (0, 1)\n",
       ".is_frozen: False\n",
       ".values:\n",
       "[0. 0. 0. 0.]\n",
       "----------------\n",
       "Index: 0\n",
       "----------------\n",
       "\n",
       "Parameter(name=std, shape=(4,))\n",
       "----------------\n",
       ".prior:     Normal(μ=array(4), σ=array(4))\n",
       ".bounds:    (0, inf)\n",
       ".is_frozen: False\n",
       ".values:\n",
       "[0. 0. 0. 0.]\n",
       "----------------\n",
       "Index: 0\n",
       "----------------\n",
       "\n",
       "\n",
       "================================\n",
       "\n",
       "\n",
       "\n",
       "FIR(shape=(4, 15))\n",
       "================================\n",
       ".parameters:\n",
       "\n",
       "\n",
       "Parameter(name=coefficients, shape=(4, 15))\n",
       "----------------\n",
       ".prior:     Normal(μ=array(4, 15), σ=array(4, 15))\n",
       ".bounds:    (-inf, inf)\n",
       ".is_frozen: False\n",
       ".values:\n",
       "[[0. 0. 0. 0. 0. 0. 0. 0. 0. 0. 0. 0. 0. 0. 0.]\n",
       " [0. 0. 0. 0. 0. 0. 0. 0. 0. 0. 0. 0. 0. 0. 0.]\n",
       " [0. 0. 0. 0. 0. 0. 0. 0. 0. 0. 0. 0. 0. 0. 0.]\n",
       " [0. 0. 0. 0. 0. 0. 0. 0. 0. 0. 0. 0. 0. 0. 0.]]\n",
       "----------------\n",
       "Index: 0\n",
       "----------------\n",
       "\n",
       "\n",
       "================================\n",
       "\n",
       "~~~~~~~~~~~~~~~~~~~~~~~~~~~~~~~~~~~~~~~~~~~~~~~~~~~~~~~~~~~~~~~~"
      ]
     },
     "execution_count": 1,
     "metadata": {},
     "output_type": "execute_result"
    }
   ],
   "source": [
    "import numpy as np\n",
    "\n",
    "from nems import Model\n",
    "\n",
    "x = np.random.rand(10000, 18)  # fake spectrogram\n",
    "# TODO: add Model methods for setting priors to mean, sample, etc\n",
    "#       (currently every coefficient here defaults to mean of 0).\n",
    "m = Model.from_keywords('wc.18x4.g-fir.4x15')\n",
    "# TODO: shorten model repr? the spaces are nice when there are lots of layers,\n",
    "#       but it makes short models unnecessary long. And/or could probably add\n",
    "#       some code to trim whitespace if less than X-many layers.\n",
    "m  "
   ]
  },
  {
   "cell_type": "code",
   "execution_count": 12,
   "metadata": {},
   "outputs": [
    {
     "name": "stderr",
     "output_type": "stream",
     "text": [
      "c:\\code\\nems-lite\\nems\\layers\\weight_channels.py:180: RuntimeWarning: divide by zero encountered in true_divide\n",
      "  coefficients = np.exp(-0.5*((x-mean)/std)**2).T\n",
      "c:\\code\\nems-lite\\nems\\layers\\weight_channels.py:180: RuntimeWarning: invalid value encountered in true_divide\n",
      "  coefficients = np.exp(-0.5*((x-mean)/std)**2).T\n"
     ]
    },
    {
     "data": {
      "text/plain": [
       "20000"
      ]
     },
     "execution_count": 12,
     "metadata": {},
     "output_type": "execute_result"
    }
   ],
   "source": [
    "wc = m.layers[0]\n",
    "fir = m.layers[1]\n",
    "# TODO: have wc, fir not return list if only one?\n",
    "#       wastes operations in Model.evaluate but would\n",
    "#       make testing of individual layers more intuitive\n",
    "y = wc.evaluate(x)[0]\n",
    "z1 = fir.evaluate(y)[0]\n",
    "z2 = fir.old_evaluate(y)[0]\n",
    "np.sum(np.isnan(z1)) + np.sum(np.isnan(z2))  # nans always !="
   ]
  },
  {
   "cell_type": "code",
   "execution_count": 13,
   "metadata": {},
   "outputs": [
    {
     "data": {
      "text/plain": [
       "10000"
      ]
     },
     "execution_count": 13,
     "metadata": {},
     "output_type": "execute_result"
    }
   ],
   "source": [
    "np.sum(z1 != z2)"
   ]
  },
  {
   "cell_type": "code",
   "execution_count": null,
   "metadata": {},
   "outputs": [],
   "source": []
  }
 ],
 "metadata": {
  "kernelspec": {
   "display_name": "Python 3.10.5 ('.nemsenv')",
   "language": "python",
   "name": "python3"
  },
  "language_info": {
   "codemirror_mode": {
    "name": "ipython",
    "version": 3
   },
   "file_extension": ".py",
   "mimetype": "text/x-python",
   "name": "python",
   "nbconvert_exporter": "python",
   "pygments_lexer": "ipython3",
   "version": "3.10.5"
  },
  "orig_nbformat": 4,
  "vscode": {
   "interpreter": {
    "hash": "4ae17e0c3cb5a88cc8facf29c9ec24ba5c55c2ac36f7fd8fd86b95dc7ac4e185"
   }
  }
 },
 "nbformat": 4,
 "nbformat_minor": 2
}
