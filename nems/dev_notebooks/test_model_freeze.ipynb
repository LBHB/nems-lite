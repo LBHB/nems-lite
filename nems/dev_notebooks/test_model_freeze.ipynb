{
 "cells": [
  {
   "cell_type": "code",
   "execution_count": null,
   "metadata": {},
   "outputs": [],
   "source": [
    "import numpy as np\n",
    "\n",
    "from nems.layers import WeightChannels\n",
    "from nems.layers.base import Layer, Phi, Parameter\n",
    "from nems.models.base import Model\n",
    "\n",
    "x = np.random.rand(1000, 18)\n",
    "y = np.random.rand(1000, 18)\n",
    "m = Model()\n",
    "class Dummy(Layer):\n",
    "    def evaluate(self, *inputs):\n",
    "        return inputs\n",
    "    def initial_parameters(self, *inputs):\n",
    "        phi = Phi(Parameter('test1'), Parameter('test2', shape=(4,5)))\n",
    "        return phi\n",
    "\n",
    "m.add_layers(\n",
    "    WeightChannels(shape=(18,4), name='wc'),\n",
    "    Dummy(name='dummy')\n",
    "    )\n",
    "m.default_input = 'testing'\n",
    "m.default_backend = 'testing some more'\n",
    "m"
   ]
  },
  {
   "cell_type": "code",
   "execution_count": null,
   "metadata": {},
   "outputs": [],
   "source": [
    "m.evaluate({'x': x, 'y': y}, input_name='x', return_full_data=False)\n",
    "# compare eval before/after freeze (shouldn't change)\n",
    "#m.layers['wc'].evaluate(x, y)"
   ]
  },
  {
   "cell_type": "code",
   "execution_count": null,
   "metadata": {},
   "outputs": [],
   "source": [
    "m.freeze_layers('wc')\n",
    "m  # parameter values should still show here"
   ]
  },
  {
   "cell_type": "code",
   "execution_count": null,
   "metadata": {},
   "outputs": [],
   "source": [
    "m.get_parameter_vector(as_list=False)  # but not here (only dummy)"
   ]
  },
  {
   "cell_type": "code",
   "execution_count": null,
   "metadata": {},
   "outputs": [],
   "source": [
    "#  m.evaluate() TODO\n",
    "# compare eval before/after freeze (shouldn't change)\n",
    "m.layers['wc'].evaluate(x)"
   ]
  },
  {
   "cell_type": "code",
   "execution_count": null,
   "metadata": {},
   "outputs": [],
   "source": [
    "m.unfreeze_layers('wc')\n",
    "m"
   ]
  },
  {
   "cell_type": "code",
   "execution_count": null,
   "metadata": {},
   "outputs": [],
   "source": [
    "m.get_parameter_vector(as_list=False)  # should be all parameters again"
   ]
  },
  {
   "cell_type": "code",
   "execution_count": null,
   "metadata": {},
   "outputs": [],
   "source": []
  }
 ],
 "metadata": {
  "kernelspec": {
   "display_name": "Python 3.10.5 ('.nemsenv')",
   "language": "python",
   "name": "python3"
  },
  "language_info": {
   "codemirror_mode": {
    "name": "ipython",
    "version": 3
   },
   "file_extension": ".py",
   "mimetype": "text/x-python",
   "name": "python",
   "nbconvert_exporter": "python",
   "pygments_lexer": "ipython3",
   "version": "3.10.5"
  },
  "orig_nbformat": 4,
  "vscode": {
   "interpreter": {
    "hash": "4ae17e0c3cb5a88cc8facf29c9ec24ba5c55c2ac36f7fd8fd86b95dc7ac4e185"
   }
  }
 },
 "nbformat": 4,
 "nbformat_minor": 2
}
