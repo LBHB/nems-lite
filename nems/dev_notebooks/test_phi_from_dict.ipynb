{
 "cells": [
  {
   "cell_type": "code",
   "execution_count": 1,
   "metadata": {},
   "outputs": [
    {
     "data": {
      "text/plain": [
       "Parameter(name=test1, shape=())\n",
       "----------------\n",
       ".prior:     Beta(α=scalar, β=scalar)\n",
       ".bounds:    (-inf, inf)\n",
       ".is_frozen: False\n",
       ".values:\n",
       "5.0\n",
       "----------------\n",
       "Index: 0\n",
       "----------------\n",
       "\n",
       "Parameter(name=test2, shape=(4,))\n",
       "----------------\n",
       ".prior:     Normal(μ=array(4), σ=array(4))\n",
       ".bounds:    (-5, 100)\n",
       ".is_frozen: False\n",
       ".values:\n",
       "[ 5.  3.  7. 19.]\n",
       "----------------\n",
       "Index: 0\n",
       "----------------\n"
      ]
     },
     "execution_count": 1,
     "metadata": {},
     "output_type": "execute_result"
    }
   ],
   "source": [
    "import numpy as np\n",
    "\n",
    "from nems.layers.base import Phi\n",
    "from nems.distributions import Beta\n",
    "\n",
    "dct = {\n",
    "    'values': {'test1': 5.0, 'test2': np.array([5, 3, 7, 19])},\n",
    "    'prior': {'test1': Beta(alpha=0.1, beta=0.3), 'test2': None},\n",
    "    'bounds': {'test1': None, 'test2': (-5, 100)}\n",
    "}\n",
    "phi = Phi.from_dict(dct)\n",
    "phi"
   ]
  },
  {
   "cell_type": "code",
   "execution_count": null,
   "metadata": {},
   "outputs": [],
   "source": []
  }
 ],
 "metadata": {
  "kernelspec": {
   "display_name": "Python 3.10.5 ('.nemsenv')",
   "language": "python",
   "name": "python3"
  },
  "language_info": {
   "codemirror_mode": {
    "name": "ipython",
    "version": 3
   },
   "file_extension": ".py",
   "mimetype": "text/x-python",
   "name": "python",
   "nbconvert_exporter": "python",
   "pygments_lexer": "ipython3",
   "version": "3.10.5"
  },
  "orig_nbformat": 4,
  "vscode": {
   "interpreter": {
    "hash": "4ae17e0c3cb5a88cc8facf29c9ec24ba5c55c2ac36f7fd8fd86b95dc7ac4e185"
   }
  }
 },
 "nbformat": 4,
 "nbformat_minor": 2
}
