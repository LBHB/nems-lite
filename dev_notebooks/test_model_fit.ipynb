{
 "cells": [
  {
   "cell_type": "code",
   "execution_count": null,
   "metadata": {},
   "outputs": [],
   "source": [
    "import numpy as np\n",
    "\n",
    "from nems import Model\n",
    "\n",
    "def my_complicated_data_loader():\n",
    "    spectrogram = np.random.random(size=(10000, 18))\n",
    "    response = np.random.random(size=(10000, 100))\n",
    "    pupil = np.random.random(size=(10000, 1))\n",
    "    other_state = np.random.choice(['on', 'off'], size=(10000, 1))\n",
    "\n",
    "    return spectrogram, response, pupil, other_state\n",
    "\n",
    "spectrogram, response, pupil, other_state = my_complicated_data_loader()\n",
    "data = {'stimulus': spectrogram, 'response': response, 'state': pupil}\n",
    "model = Model.from_keywords('wc.18x1.g-fir.1x15')\n",
    "_ = model.sample_from_priors()\n",
    "model"
   ]
  },
  {
   "cell_type": "code",
   "execution_count": null,
   "metadata": {},
   "outputs": [],
   "source": [
    "model.fit(data, input_name='stimulus', target_name='response')"
   ]
  },
  {
   "cell_type": "code",
   "execution_count": null,
   "metadata": {},
   "outputs": [],
   "source": [
    "model"
   ]
  },
  {
   "cell_type": "code",
   "execution_count": null,
   "metadata": {},
   "outputs": [],
   "source": []
  }
 ],
 "metadata": {
  "kernelspec": {
   "display_name": "Python 3.10.5 ('.nemsenv')",
   "language": "python",
   "name": "python3"
  },
  "language_info": {
   "codemirror_mode": {
    "name": "ipython",
    "version": 3
   },
   "file_extension": ".py",
   "mimetype": "text/x-python",
   "name": "python",
   "nbconvert_exporter": "python",
   "pygments_lexer": "ipython3",
   "version": "3.10.5"
  },
  "orig_nbformat": 4,
  "vscode": {
   "interpreter": {
    "hash": "4ae17e0c3cb5a88cc8facf29c9ec24ba5c55c2ac36f7fd8fd86b95dc7ac4e185"
   }
  }
 },
 "nbformat": 4,
 "nbformat_minor": 2
}
