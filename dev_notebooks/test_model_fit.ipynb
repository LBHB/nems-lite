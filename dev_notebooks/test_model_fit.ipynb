{
 "cells": [
  {
   "cell_type": "code",
   "execution_count": null,
   "metadata": {},
   "outputs": [],
   "source": [
    "import numpy as np\n",
    "\n",
    "from nems import Model\n",
    "\n",
    "def my_complicated_data_loader():\n",
    "    spectrogram = np.random.random(size=(10000, 18))\n",
    "    response = np.random.random(size=(10000, 100))\n",
    "    pupil = np.random.random(size=(10000, 1))\n",
    "    other_state = np.random.choice(['on', 'off'], size=(10000, 1))\n",
    "\n",
    "    return spectrogram, response, pupil, other_state\n",
    "\n",
    "spectrogram, response, pupil, other_state = my_complicated_data_loader()\n",
    "data = {'stimulus': spectrogram, 'response': response, 'state': pupil}\n",
    "model = Model.from_keywords('wc.18x1.g-fir.1x15')\n",
    "_ = model.sample_from_priors()"
   ]
  },
  {
   "cell_type": "code",
   "execution_count": null,
   "metadata": {},
   "outputs": [],
   "source": [
    "model.evaluate(spectrogram, save_data_map=True)"
   ]
  },
  {
   "cell_type": "code",
   "execution_count": null,
   "metadata": {},
   "outputs": [],
   "source": [
    "model.fit(data, input_name='stimulus', target_name='response')"
   ]
  },
  {
   "cell_type": "code",
   "execution_count": null,
   "metadata": {},
   "outputs": [],
   "source": [
    "model"
   ]
  },
  {
   "cell_type": "code",
   "execution_count": null,
   "metadata": {},
   "outputs": [],
   "source": []
  }
 ],
 "metadata": {
  "kernelspec": {
   "display_name": "Python 3.9.12 ('nemsenv')",
   "language": "python",
   "name": "python3"
  },
  "language_info": {
   "codemirror_mode": {
    "name": "ipython",
    "version": 3
   },
   "file_extension": ".py",
   "mimetype": "text/x-python",
   "name": "python",
   "nbconvert_exporter": "python",
   "pygments_lexer": "ipython3",
   "version": "3.9.12"
  },
  "orig_nbformat": 4,
  "vscode": {
   "interpreter": {
    "hash": "34aaeff23f19c2a7c7cbe642234f2e2e8d7af1f23b524d8bd0f4b326f0682213"
   }
  }
 },
 "nbformat": 4,
 "nbformat_minor": 2
}
