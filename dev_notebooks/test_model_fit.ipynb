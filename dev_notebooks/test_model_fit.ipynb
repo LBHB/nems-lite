{
 "cells": [
  {
   "cell_type": "code",
   "execution_count": 10,
   "metadata": {},
   "outputs": [],
   "source": [
    "import numpy as np\n",
    "\n",
    "from nems import Model\n",
    "\n",
    "# TODO:  need to test with some real data, gradient is screwey and I'm not sure\n",
    "#        if it's from a bug or b/c i/m using random data.\n",
    "\n",
    "spectrogram = np.random.random(size=(1, 1000, 18))\n",
    "response = np.random.random(size=(1, 1000, 1)) + 2\n",
    "pupil = np.random.random(size=(10, 1000, 1))\n",
    "other_state = np.random.choice(['on', 'off'], size=(10, 1000, 1))\n",
    "\n",
    "input = {'stimulus': spectrogram, 'pupil': pupil, 'state': other_state}\n",
    "target = response\n",
    "model = Model.from_keywords('wc.18x1.g-fir.15x1-dexp.1')\n",
    "_ = model.sample_from_priors()\n",
    "# model"
   ]
  },
  {
   "cell_type": "code",
   "execution_count": 2,
   "metadata": {},
   "outputs": [
    {
     "name": "stdout",
     "output_type": "stream",
     "text": [
      "stimulus: (10, 10000, 18)\n",
      "pupil: (10, 10000, 1)\n",
      "state: (10, 10000, 1)\n",
      "stimulus: (10, 10000, 18)\n",
      "pupil: (10, 10000, 1)\n",
      "state: (10, 10000, 1)\n"
     ]
    },
    {
     "name": "stderr",
     "output_type": "stream",
     "text": [
      "c:\\code\\nems-lite\\nems\\layers\\nonlinearity.py:172: RuntimeWarning: overflow encountered in exp\n",
      "  output = base + amplitude * np.exp(-np.exp(inner_exp))\n"
     ]
    },
    {
     "data": {
      "text/plain": [
       "(10, 10000, 1)"
      ]
     },
     "execution_count": 2,
     "metadata": {},
     "output_type": "execute_result"
    }
   ],
   "source": [
    "# broadcast spectrogram to other inputs\n",
    "data_out = model.evaluate(input, input_name='stimulus', batch_size=None)\n",
    "data_out['output'].shape"
   ]
  },
  {
   "cell_type": "code",
   "execution_count": 3,
   "metadata": {},
   "outputs": [
    {
     "data": {
      "text/plain": [
       "(1, 10000, 18)"
      ]
     },
     "execution_count": 3,
     "metadata": {},
     "output_type": "execute_result"
    }
   ],
   "source": [
    "# broadcasted shape shouldn't show up here, only the outputs get updated\n",
    "# in the returned data.\n",
    "data_out['stimulus'].shape"
   ]
  },
  {
   "cell_type": "code",
   "execution_count": 11,
   "metadata": {},
   "outputs": [
    {
     "name": "stderr",
     "output_type": "stream",
     "text": [
      "c:\\code\\nems-lite\\nems\\layers\\nonlinearity.py:172: RuntimeWarning: overflow encountered in exp\n",
      "  output = base + amplitude * np.exp(-np.exp(inner_exp))\n"
     ]
    },
    {
     "name": "stdout",
     "output_type": "stream",
     "text": [
      "Epoch 0\n",
      "==============================\n",
      "    Batch 0\n",
      "    --------------------------\n",
      "        Iteration 0, error is: 2.86297885...\n",
      "    Batch 1\n",
      "    --------------------------\n",
      "        Iteration 0, error is: 2.86297885...\n",
      "    Batch 2\n",
      "    --------------------------\n",
      "        Iteration 0, error is: 2.86297885...\n",
      "    Batch 3\n",
      "    --------------------------\n",
      "        Iteration 0, error is: 2.86297885...\n",
      "    Batch 4\n",
      "    --------------------------\n",
      "        Iteration 0, error is: 2.86297885...\n",
      "Fit successful: True\n",
      "Status: 0\n",
      "Message: CONVERGENCE: NORM_OF_PROJECTED_GRADIENT_<=_PGTOL\n"
     ]
    },
    {
     "data": {
      "text/plain": [
       "<nems.backends.scipy.SciPyBackend at 0x1b762429670>"
      ]
     },
     "execution_count": 11,
     "metadata": {},
     "output_type": "execute_result"
    }
   ],
   "source": [
    "model.fit(input, target, input_name='stimulus', target_name='response',\n",
    "          batch_size=2)"
   ]
  },
  {
   "cell_type": "code",
   "execution_count": 12,
   "metadata": {},
   "outputs": [
    {
     "name": "stdout",
     "output_type": "stream",
     "text": [
      "Epoch 0\n",
      "==============================\n",
      "    Batch 0\n",
      "    --------------------------\n",
      "    Batch 1\n",
      "    --------------------------\n",
      "    Batch 2\n",
      "    --------------------------\n",
      "Epoch 1\n",
      "==============================\n",
      "    Batch 0\n",
      "    --------------------------\n",
      "    Batch 1\n",
      "    --------------------------\n",
      "    Batch 2\n",
      "    --------------------------\n",
      "Epoch 2\n",
      "==============================\n",
      "    Batch 0\n",
      "    --------------------------\n",
      "    Batch 1\n",
      "    --------------------------\n",
      "    Batch 2\n",
      "    --------------------------\n",
      "Fit successful: True\n",
      "Status: 0\n",
      "Message: CONVERGENCE: NORM_OF_PROJECTED_GRADIENT_<=_PGTOL\n"
     ]
    },
    {
     "data": {
      "text/plain": [
       "<nems.backends.scipy.SciPyBackend at 0x1b7635e2c40>"
      ]
     },
     "execution_count": 12,
     "metadata": {},
     "output_type": "execute_result"
    }
   ],
   "source": [
    "options={'epochs': 3, 'log_spacing': 1, 'options': {'maxiter': 10}}\n",
    "model.fit(input, target, input_name='stimulus', target_name='response',\n",
    "          batch_size=4, fitter_options=options)"
   ]
  },
  {
   "cell_type": "code",
   "execution_count": null,
   "metadata": {},
   "outputs": [],
   "source": []
  }
 ],
 "metadata": {
  "kernelspec": {
   "display_name": "Python 3.9.12 ('mkltest')",
   "language": "python",
   "name": "python3"
  },
  "language_info": {
   "codemirror_mode": {
    "name": "ipython",
    "version": 3
   },
   "file_extension": ".py",
   "mimetype": "text/x-python",
   "name": "python",
   "nbconvert_exporter": "python",
   "pygments_lexer": "ipython3",
   "version": "3.9.12"
  },
  "orig_nbformat": 4,
  "vscode": {
   "interpreter": {
    "hash": "7e04c614ea49137b728f9a88f47ebc62abd1dc770924cb0e56431acc2e9f8803"
   }
  }
 },
 "nbformat": 4,
 "nbformat_minor": 2
}
