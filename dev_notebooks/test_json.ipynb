{
 "cells": [
  {
   "cell_type": "code",
   "execution_count": null,
   "metadata": {},
   "outputs": [],
   "source": [
    "from nems import Model\n",
    "from nems.tools.json import nems_to_json, nems_from_json, NEMSEncoder\n",
    "\n",
    "# Because of the order of operations for `json.dumps`, the to/from json methods\n",
    "# of each of the core NEMS classes should automatically be invoked in a\n",
    "# nested fashion. In other words, a Model object stores a list of Layers, so\n",
    "# each of those Layers will be encoded before the model. Each Layer stores a\n",
    "# Phi object, so that gets encoded before the Layer, etc. In other words, just\n",
    "# testing `Model.<to/from>_json` should be sufficient to test all the classes.\n",
    "model = Model.from_keywords('wc.18x4', 'fir.4x15')\n",
    "# TODO: implement equality test for Model (& therefore Layer, Phi, Parameter)?\n",
    "#       Would make testing easier, instead of visually comparing parameters or\n",
    "#       testing for equal predictions, e.g just test `model1 == model2`.\n",
    "model"
   ]
  },
  {
   "cell_type": "code",
   "execution_count": null,
   "metadata": {},
   "outputs": [],
   "source": [
    "encoded_model = nems_to_json(model)"
   ]
  },
  {
   "cell_type": "code",
   "execution_count": null,
   "metadata": {},
   "outputs": [],
   "source": [
    "decoded_model = nems_from_json(encoded_model)\n",
    "decoded_model"
   ]
  },
  {
   "cell_type": "code",
   "execution_count": null,
   "metadata": {},
   "outputs": [],
   "source": []
  }
 ],
 "metadata": {
  "kernelspec": {
   "display_name": "Python 3.9.12 ('nemsenv')",
   "language": "python",
   "name": "python3"
  },
  "language_info": {
   "codemirror_mode": {
    "name": "ipython",
    "version": 3
   },
   "file_extension": ".py",
   "mimetype": "text/x-python",
   "name": "python",
   "nbconvert_exporter": "python",
   "pygments_lexer": "ipython3",
   "version": "3.9.12"
  },
  "orig_nbformat": 4,
  "vscode": {
   "interpreter": {
    "hash": "34aaeff23f19c2a7c7cbe642234f2e2e8d7af1f23b524d8bd0f4b326f0682213"
   }
  }
 },
 "nbformat": 4,
 "nbformat_minor": 2
}
