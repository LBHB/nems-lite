{
 "cells": [
  {
   "cell_type": "code",
   "execution_count": null,
   "metadata": {},
   "outputs": [],
   "source": [
    "import tensorflow as tf\n",
    "import tensorflow.keras as keras\n",
    "import numpy as np\n",
    "\n",
    "from nems import Model\n",
    "from nems.tf.model import build_model\n",
    "from nems.layers import FIR\n",
    "\n",
    "fir = FIR(shape=(1, 15), name='fir')\n",
    "fir_tf = fir.as_tensorflow_layer()()"
   ]
  },
  {
   "cell_type": "code",
   "execution_count": null,
   "metadata": {},
   "outputs": [],
   "source": [
    "n_units = 4\n",
    "n_out = 4\n",
    "\n",
    "x = np.random.rand(10, 1000, 18)  # 10 stimuli (as spectrogram) 1000 bins each\n",
    "y = np.random.rand(10, 1000, n_out)   # 10 corresponding responses\n",
    "data = {'input': x}#, 'target': y}  # only include inputs (stim, state, etc)\n",
    "\n",
    "# TODO: old NEMS fir would have 1x15xN, but I think that only worked b/c of\n",
    "#       two of the dimensions being multiplied together for coefficients.\n",
    "#       Pretty sure this should be the same effect?\n",
    "nems_model = Model.from_keywords(f'wc.18x{n_units}.g-fir.{n_units}x15x{n_units}')\n",
    "fir_tf = nems_model['fir'].as_tensorflow_layer()()\n",
    "# Check that input shape gets evaluated correctly\n",
    "fir_tf.call(keras.Input(shape=(1000, 4), name='test', dtype='float32'))\n",
    "# TODO: not sure what the Lambda layer warning is about, but it's not happening\n",
    "#       during the actual model evaluation so maybe nothing to worry about."
   ]
  },
  {
   "cell_type": "code",
   "execution_count": null,
   "metadata": {},
   "outputs": [],
   "source": [
    "tf_layers = [layer.as_tensorflow_layer()() for layer in nems_model.layers]\n",
    "tf_model = build_model(\n",
    "    nems_model, tf_layers, data, eval_kwargs={'input_name': 'input'},\n",
    "    )"
   ]
  },
  {
   "cell_type": "code",
   "execution_count": null,
   "metadata": {},
   "outputs": [],
   "source": [
    "# TODO: move NEMS Model.__repr__ to Model.summary() instead of Model.__str__?\n",
    "#       (or maybe both, but still switch __repr__ to compact version)\n",
    "tf_model.summary()  "
   ]
  },
  {
   "cell_type": "code",
   "execution_count": null,
   "metadata": {},
   "outputs": [],
   "source": [
    "tf_model.compile(\n",
    "    optimizer=keras.optimizers.Adam(),\n",
    "    loss={\n",
    "        'fir': keras.losses.MeanSquaredError()\n",
    "    }\n",
    ")"
   ]
  },
  {
   "cell_type": "code",
   "execution_count": null,
   "metadata": {},
   "outputs": [],
   "source": [
    "tf_model.fit(\n",
    "    data, {'fir': y}\n",
    ")"
   ]
  },
  {
   "cell_type": "code",
   "execution_count": null,
   "metadata": {},
   "outputs": [],
   "source": [
    "tf_model.predict(x).shape"
   ]
  },
  {
   "cell_type": "code",
   "execution_count": null,
   "metadata": {},
   "outputs": [],
   "source": [
    "tf_model.layers[2].weights_to_values().shape"
   ]
  },
  {
   "cell_type": "code",
   "execution_count": null,
   "metadata": {},
   "outputs": [],
   "source": []
  }
 ],
 "metadata": {
  "kernelspec": {
   "display_name": "Python 3.9.12 ('mkltest')",
   "language": "python",
   "name": "python3"
  },
  "language_info": {
   "codemirror_mode": {
    "name": "ipython",
    "version": 3
   },
   "file_extension": ".py",
   "mimetype": "text/x-python",
   "name": "python",
   "nbconvert_exporter": "python",
   "pygments_lexer": "ipython3",
   "version": "3.9.12"
  },
  "orig_nbformat": 4,
  "vscode": {
   "interpreter": {
    "hash": "7e04c614ea49137b728f9a88f47ebc62abd1dc770924cb0e56431acc2e9f8803"
   }
  }
 },
 "nbformat": 4,
 "nbformat_minor": 2
}
