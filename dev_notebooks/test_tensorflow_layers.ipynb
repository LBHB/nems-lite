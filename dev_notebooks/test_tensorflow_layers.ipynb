{
 "cells": [
  {
   "cell_type": "code",
   "execution_count": null,
   "metadata": {},
   "outputs": [],
   "source": [
    "import tensorflow as tf\n",
    "import tensorflow.keras as keras\n",
    "import numpy as np\n",
    "\n",
    "from nems import Model\n",
    "from nems.tf.model import build_model\n",
    "from nems.layers import WeightChannels\n",
    "\n",
    "n_chans = 4\n",
    "wc = WeightChannels(shape=(18, n_chans), name='wc')\n",
    "wc.as_tensorflow_layer()()"
   ]
  },
  {
   "cell_type": "code",
   "execution_count": null,
   "metadata": {},
   "outputs": [],
   "source": [
    "x = np.random.rand(10, 1000, 18)  # 10 stimuli (as spectrogram) 1000 bins each\n",
    "y = np.random.rand(10, 1000, n_chans)   # 10 corresponding responses\n",
    "data = {'input': x}#, 'target': y}\n",
    "\n",
    "nems_model = Model(wc)\n",
    "wc_tf = nems_model['wc'].as_tensorflow_layer()()\n",
    "# Check that input shape gets evaluated correctly\n",
    "wc_tf.call(keras.Input(shape=(1000,18), name='test', dtype='float32'))"
   ]
  },
  {
   "cell_type": "code",
   "execution_count": null,
   "metadata": {},
   "outputs": [],
   "source": [
    "tf_layers = [layer.as_tensorflow_layer()() for layer in nems_model.layers]\n",
    "tf_model = build_model(nems_model, tf_layers, data,\n",
    "                       eval_kwargs={'input_name': 'input'})"
   ]
  },
  {
   "cell_type": "code",
   "execution_count": null,
   "metadata": {},
   "outputs": [],
   "source": [
    "# TODO: move NEMS Model.__repr__ to Model.summary() instead of Model.__str__?\n",
    "#       (or maybe both, but still switch __repr__ to compact version)\n",
    "tf_model.summary()  "
   ]
  },
  {
   "cell_type": "code",
   "execution_count": null,
   "metadata": {},
   "outputs": [],
   "source": [
    "tf_model.compile(\n",
    "    optimizer=keras.optimizers.Adam(),\n",
    "    loss={\n",
    "        'wc': keras.losses.MeanSquaredError()\n",
    "    }\n",
    ")"
   ]
  },
  {
   "cell_type": "code",
   "execution_count": null,
   "metadata": {},
   "outputs": [],
   "source": [
    "tf_model.fit(\n",
    "    data, {'wc': y}\n",
    ")"
   ]
  },
  {
   "cell_type": "code",
   "execution_count": null,
   "metadata": {},
   "outputs": [],
   "source": [
    "tf_model.predict(x).shape"
   ]
  },
  {
   "cell_type": "code",
   "execution_count": null,
   "metadata": {},
   "outputs": [],
   "source": [
    "tf_model.layers[1].weights_to_values()"
   ]
  },
  {
   "cell_type": "code",
   "execution_count": null,
   "metadata": {},
   "outputs": [],
   "source": []
  }
 ],
 "metadata": {
  "kernelspec": {
   "display_name": "Python 3.9.12 ('mkltest')",
   "language": "python",
   "name": "python3"
  },
  "language_info": {
   "codemirror_mode": {
    "name": "ipython",
    "version": 3
   },
   "file_extension": ".py",
   "mimetype": "text/x-python",
   "name": "python",
   "nbconvert_exporter": "python",
   "pygments_lexer": "ipython3",
   "version": "3.9.12"
  },
  "orig_nbformat": 4,
  "vscode": {
   "interpreter": {
    "hash": "7e04c614ea49137b728f9a88f47ebc62abd1dc770924cb0e56431acc2e9f8803"
   }
  }
 },
 "nbformat": 4,
 "nbformat_minor": 2
}
