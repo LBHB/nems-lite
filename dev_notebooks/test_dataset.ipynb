{
 "cells": [
  {
   "cell_type": "code",
   "execution_count": 1,
   "metadata": {},
   "outputs": [],
   "source": [
    "import numpy as np\n",
    "from nems.models.base import DataSet\n",
    "\n",
    "input = {'x': np.random.rand(1000, 18)}\n",
    "d = DataSet(input)"
   ]
  },
  {
   "cell_type": "code",
   "execution_count": 2,
   "metadata": {},
   "outputs": [
    {
     "data": {
      "text/plain": [
       "(1, 1000, 18)"
      ]
     },
     "execution_count": 2,
     "metadata": {},
     "output_type": "execute_result"
    }
   ],
   "source": [
    "new_d = d.prepend_samples()\n",
    "new_d.inputs['x'].shape"
   ]
  },
  {
   "cell_type": "code",
   "execution_count": 3,
   "metadata": {},
   "outputs": [
    {
     "data": {
      "text/plain": [
       "(1000, 18)"
      ]
     },
     "execution_count": 3,
     "metadata": {},
     "output_type": "execute_result"
    }
   ],
   "source": [
    "# Shouldn't change\n",
    "d.inputs['x'].shape"
   ]
  },
  {
   "cell_type": "code",
   "execution_count": 4,
   "metadata": {},
   "outputs": [
    {
     "data": {
      "text/plain": [
       "True"
      ]
     },
     "execution_count": 4,
     "metadata": {},
     "output_type": "execute_result"
    }
   ],
   "source": [
    "np.shares_memory(d.inputs['x'], new_d.inputs['x'])"
   ]
  },
  {
   "cell_type": "code",
   "execution_count": 5,
   "metadata": {},
   "outputs": [
    {
     "data": {
      "text/plain": [
       "(1000, 18)"
      ]
     },
     "execution_count": 5,
     "metadata": {},
     "output_type": "execute_result"
    }
   ],
   "source": [
    "sd = new_d.squeeze_samples()\n",
    "sd.inputs['x'].shape"
   ]
  },
  {
   "cell_type": "code",
   "execution_count": 6,
   "metadata": {},
   "outputs": [
    {
     "name": "stdout",
     "output_type": "stream",
     "text": [
      "y: (1, 1000, 18)\n",
      "z: (10, 1000, 1)\n"
     ]
    }
   ],
   "source": [
    "input2 = {'y': np.random.rand(1, 1000, 18), 'z': np.random.rand(10, 1000, 1)}\n",
    "d2 = DataSet(input2)\n",
    "for k, v in d2.inputs.items():\n",
    "    print(f'{k}: {v.shape}')"
   ]
  },
  {
   "cell_type": "code",
   "execution_count": 7,
   "metadata": {},
   "outputs": [
    {
     "name": "stdout",
     "output_type": "stream",
     "text": [
      "y: (10, 1000, 18)\n",
      "z: (10, 1000, 1)\n"
     ]
    }
   ],
   "source": [
    "d3 = d2.as_broadcasted_samples()\n",
    "for k, v in d3.inputs.items():\n",
    "    print(f'{k}: {v.shape}')"
   ]
  },
  {
   "cell_type": "code",
   "execution_count": 8,
   "metadata": {},
   "outputs": [
    {
     "data": {
      "text/plain": [
       "True"
      ]
     },
     "execution_count": 8,
     "metadata": {},
     "output_type": "execute_result"
    }
   ],
   "source": [
    "np.shares_memory(d3.inputs['y'][5,...], d2.inputs['y'])"
   ]
  },
  {
   "cell_type": "code",
   "execution_count": 9,
   "metadata": {},
   "outputs": [],
   "source": [
    "def print_shapes(d, batch_size):\n",
    "    batches = d.as_batches(batch_size)\n",
    "    for i, batch in enumerate(batches):\n",
    "        for k, v in batch.inputs.items():\n",
    "            print(f'batch {i}| {k}: {v.shape}')\n",
    "        print('='*30)\n",
    "\n",
    "        samples = batch.as_samples()\n",
    "        for j, sample in enumerate(samples):\n",
    "            for k, v in sample.inputs.items():\n",
    "                print(f'    sample {j}| {k}: {v.shape}')\n",
    "            print('    ' + '-'*26)"
   ]
  },
  {
   "cell_type": "code",
   "execution_count": 10,
   "metadata": {},
   "outputs": [
    {
     "name": "stdout",
     "output_type": "stream",
     "text": [
      "batch 0| y: (2, 1000, 18)\n",
      "batch 0| z: (2, 1000, 1)\n",
      "==============================\n",
      "    sample 0| y: (1000, 18)\n",
      "    sample 0| z: (1000, 1)\n",
      "    --------------------------\n",
      "    sample 1| y: (1000, 18)\n",
      "    sample 1| z: (1000, 1)\n",
      "    --------------------------\n",
      "batch 1| y: (2, 1000, 18)\n",
      "batch 1| z: (2, 1000, 1)\n",
      "==============================\n",
      "    sample 0| y: (1000, 18)\n",
      "    sample 0| z: (1000, 1)\n",
      "    --------------------------\n",
      "    sample 1| y: (1000, 18)\n",
      "    sample 1| z: (1000, 1)\n",
      "    --------------------------\n",
      "batch 2| y: (2, 1000, 18)\n",
      "batch 2| z: (2, 1000, 1)\n",
      "==============================\n",
      "    sample 0| y: (1000, 18)\n",
      "    sample 0| z: (1000, 1)\n",
      "    --------------------------\n",
      "    sample 1| y: (1000, 18)\n",
      "    sample 1| z: (1000, 1)\n",
      "    --------------------------\n",
      "batch 3| y: (2, 1000, 18)\n",
      "batch 3| z: (2, 1000, 1)\n",
      "==============================\n",
      "    sample 0| y: (1000, 18)\n",
      "    sample 0| z: (1000, 1)\n",
      "    --------------------------\n",
      "    sample 1| y: (1000, 18)\n",
      "    sample 1| z: (1000, 1)\n",
      "    --------------------------\n",
      "batch 4| y: (2, 1000, 18)\n",
      "batch 4| z: (2, 1000, 1)\n",
      "==============================\n",
      "    sample 0| y: (1000, 18)\n",
      "    sample 0| z: (1000, 1)\n",
      "    --------------------------\n",
      "    sample 1| y: (1000, 18)\n",
      "    sample 1| z: (1000, 1)\n",
      "    --------------------------\n"
     ]
    }
   ],
   "source": [
    "print_shapes(d3, batch_size=2)"
   ]
  },
  {
   "cell_type": "code",
   "execution_count": 11,
   "metadata": {},
   "outputs": [
    {
     "name": "stdout",
     "output_type": "stream",
     "text": [
      "batch 0| y: (2, 1000, 18)\n",
      "batch 0| z: (2, 1000, 1)\n",
      "==============================\n",
      "    sample 0| y: (1000, 18)\n",
      "    sample 0| z: (1000, 1)\n",
      "    --------------------------\n",
      "    sample 1| y: (1000, 18)\n",
      "    sample 1| z: (1000, 1)\n",
      "    --------------------------\n",
      "batch 1| y: (4, 1000, 18)\n",
      "batch 1| z: (4, 1000, 1)\n",
      "==============================\n",
      "    sample 0| y: (1000, 18)\n",
      "    sample 0| z: (1000, 1)\n",
      "    --------------------------\n",
      "    sample 1| y: (1000, 18)\n",
      "    sample 1| z: (1000, 1)\n",
      "    --------------------------\n",
      "    sample 2| y: (1000, 18)\n",
      "    sample 2| z: (1000, 1)\n",
      "    --------------------------\n",
      "    sample 3| y: (1000, 18)\n",
      "    sample 3| z: (1000, 1)\n",
      "    --------------------------\n",
      "batch 2| y: (4, 1000, 18)\n",
      "batch 2| z: (4, 1000, 1)\n",
      "==============================\n",
      "    sample 0| y: (1000, 18)\n",
      "    sample 0| z: (1000, 1)\n",
      "    --------------------------\n",
      "    sample 1| y: (1000, 18)\n",
      "    sample 1| z: (1000, 1)\n",
      "    --------------------------\n",
      "    sample 2| y: (1000, 18)\n",
      "    sample 2| z: (1000, 1)\n",
      "    --------------------------\n",
      "    sample 3| y: (1000, 18)\n",
      "    sample 3| z: (1000, 1)\n",
      "    --------------------------\n"
     ]
    }
   ],
   "source": [
    "print_shapes(d3, batch_size=4)"
   ]
  },
  {
   "cell_type": "code",
   "execution_count": 12,
   "metadata": {},
   "outputs": [
    {
     "name": "stdout",
     "output_type": "stream",
     "text": [
      "batch 0| y: (10, 1000, 18)\n",
      "batch 0| z: (10, 1000, 1)\n",
      "==============================\n",
      "    sample 0| y: (1000, 18)\n",
      "    sample 0| z: (1000, 1)\n",
      "    --------------------------\n",
      "    sample 1| y: (1000, 18)\n",
      "    sample 1| z: (1000, 1)\n",
      "    --------------------------\n",
      "    sample 2| y: (1000, 18)\n",
      "    sample 2| z: (1000, 1)\n",
      "    --------------------------\n",
      "    sample 3| y: (1000, 18)\n",
      "    sample 3| z: (1000, 1)\n",
      "    --------------------------\n",
      "    sample 4| y: (1000, 18)\n",
      "    sample 4| z: (1000, 1)\n",
      "    --------------------------\n",
      "    sample 5| y: (1000, 18)\n",
      "    sample 5| z: (1000, 1)\n",
      "    --------------------------\n",
      "    sample 6| y: (1000, 18)\n",
      "    sample 6| z: (1000, 1)\n",
      "    --------------------------\n",
      "    sample 7| y: (1000, 18)\n",
      "    sample 7| z: (1000, 1)\n",
      "    --------------------------\n",
      "    sample 8| y: (1000, 18)\n",
      "    sample 8| z: (1000, 1)\n",
      "    --------------------------\n",
      "    sample 9| y: (1000, 18)\n",
      "    sample 9| z: (1000, 1)\n",
      "    --------------------------\n"
     ]
    }
   ],
   "source": [
    "print_shapes(d3, batch_size=None)"
   ]
  },
  {
   "cell_type": "code",
   "execution_count": null,
   "metadata": {},
   "outputs": [],
   "source": []
  }
 ],
 "metadata": {
  "kernelspec": {
   "display_name": "Python 3.9.12 ('mkltest')",
   "language": "python",
   "name": "python3"
  },
  "language_info": {
   "codemirror_mode": {
    "name": "ipython",
    "version": 3
   },
   "file_extension": ".py",
   "mimetype": "text/x-python",
   "name": "python",
   "nbconvert_exporter": "python",
   "pygments_lexer": "ipython3",
   "version": "3.9.12"
  },
  "orig_nbformat": 4,
  "vscode": {
   "interpreter": {
    "hash": "7e04c614ea49137b728f9a88f47ebc62abd1dc770924cb0e56431acc2e9f8803"
   }
  }
 },
 "nbformat": 4,
 "nbformat_minor": 2
}
