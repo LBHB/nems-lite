{
 "cells": [
  {
   "cell_type": "code",
   "execution_count": 1,
   "metadata": {},
   "outputs": [],
   "source": [
    "import numpy as np\n",
    "from nems.models.base import DataSet\n",
    "\n",
    "input = {'x': np.random.rand(1000, 18)}\n",
    "d = DataSet(input)"
   ]
  },
  {
   "cell_type": "code",
   "execution_count": 2,
   "metadata": {},
   "outputs": [
    {
     "data": {
      "text/plain": [
       "(1, 1000, 18)"
      ]
     },
     "execution_count": 2,
     "metadata": {},
     "output_type": "execute_result"
    }
   ],
   "source": [
    "new_d = d.prepend_samples()\n",
    "new_d.inputs['x'].shape"
   ]
  },
  {
   "cell_type": "code",
   "execution_count": 3,
   "metadata": {},
   "outputs": [
    {
     "data": {
      "text/plain": [
       "(1, 1000, 18)"
      ]
     },
     "execution_count": 3,
     "metadata": {},
     "output_type": "execute_result"
    }
   ],
   "source": [
    "# Shouldn't change\n",
    "d.inputs['x'].shape"
   ]
  },
  {
   "cell_type": "code",
   "execution_count": 4,
   "metadata": {},
   "outputs": [],
   "source": [
    "sd = new_d.squeeze_samples()"
   ]
  },
  {
   "cell_type": "code",
   "execution_count": 5,
   "metadata": {},
   "outputs": [
    {
     "data": {
      "text/plain": [
       "(1000, 18)"
      ]
     },
     "execution_count": 5,
     "metadata": {},
     "output_type": "execute_result"
    }
   ],
   "source": [
    "sd.inputs['x'].shape"
   ]
  },
  {
   "cell_type": "code",
   "execution_count": 7,
   "metadata": {},
   "outputs": [
    {
     "ename": "IndexError",
     "evalue": "list index out of range",
     "output_type": "error",
     "traceback": [
      "\u001b[1;31m---------------------------------------------------------------------------\u001b[0m",
      "\u001b[1;31mIndexError\u001b[0m                                Traceback (most recent call last)",
      "\u001b[1;32mc:\\code\\nems-lite\\dev_notebooks\\test_dataset.ipynb Cell 6\u001b[0m in \u001b[0;36m<cell line: 2>\u001b[1;34m()\u001b[0m\n\u001b[0;32m      <a href='vscode-notebook-cell:/c%3A/code/nems-lite/dev_notebooks/test_dataset.ipynb#W6sZmlsZQ%3D%3D?line=0'>1</a>\u001b[0m batches \u001b[39m=\u001b[39m new_d\u001b[39m.\u001b[39mas_batches(batch_size\u001b[39m=\u001b[39m\u001b[39m1\u001b[39m)\n\u001b[1;32m----> <a href='vscode-notebook-cell:/c%3A/code/nems-lite/dev_notebooks/test_dataset.ipynb#W6sZmlsZQ%3D%3D?line=1'>2</a>\u001b[0m \u001b[39mfor\u001b[39;00m batch \u001b[39min\u001b[39;00m batches:\n\u001b[0;32m      <a href='vscode-notebook-cell:/c%3A/code/nems-lite/dev_notebooks/test_dataset.ipynb#W6sZmlsZQ%3D%3D?line=2'>3</a>\u001b[0m     \u001b[39mprint\u001b[39m(batch\u001b[39m.\u001b[39minputs[\u001b[39m'\u001b[39m\u001b[39mx\u001b[39m\u001b[39m'\u001b[39m]\u001b[39m.\u001b[39mshape)\n",
      "File \u001b[1;32mc:\\code\\nems-lite\\nems\\models\\base.py:1252\u001b[0m, in \u001b[0;36mDataSet.as_batches\u001b[1;34m(self, batch_size, permute)\u001b[0m\n\u001b[0;32m   1247\u001b[0m d\u001b[39m.\u001b[39massert_no_copies(batched_inputs, batched_outputs, batched_targets)\n\u001b[0;32m   1249\u001b[0m \u001b[39m# NOTE: Every array must have the same number of samples\u001b[39;00m\n\u001b[0;32m   1250\u001b[0m \u001b[39m# (and the same number of batches as a result), otherwise this will\u001b[39;00m\n\u001b[0;32m   1251\u001b[0m \u001b[39m# not work as intended.\u001b[39;00m\n\u001b[1;32m-> 1252\u001b[0m n_batches \u001b[39m=\u001b[39m \u001b[39mlen\u001b[39m(\u001b[39mlist\u001b[39;49m(batched_inputs\u001b[39m.\u001b[39;49mvalues())[\u001b[39m0\u001b[39;49m])\n\u001b[0;32m   1254\u001b[0m \u001b[39m# Index into batched_data instead of collecting a list of batches,\u001b[39;00m\n\u001b[0;32m   1255\u001b[0m \u001b[39m# to ensure memory is still shared. Also makes permutations easier.\u001b[39;00m\n\u001b[0;32m   1256\u001b[0m indices \u001b[39m=\u001b[39m np\u001b[39m.\u001b[39marange(n_batches)\n",
      "\u001b[1;31mIndexError\u001b[0m: list index out of range"
     ]
    }
   ],
   "source": [
    "batches = new_d.as_batches(batch_size=1)\n",
    "for batch in batches:\n",
    "    print(batch.inputs['x'].shape)"
   ]
  },
  {
   "cell_type": "code",
   "execution_count": null,
   "metadata": {},
   "outputs": [],
   "source": []
  }
 ],
 "metadata": {
  "kernelspec": {
   "display_name": "Python 3.9.12 ('mkltest')",
   "language": "python",
   "name": "python3"
  },
  "language_info": {
   "codemirror_mode": {
    "name": "ipython",
    "version": 3
   },
   "file_extension": ".py",
   "mimetype": "text/x-python",
   "name": "python",
   "nbconvert_exporter": "python",
   "pygments_lexer": "ipython3",
   "version": "3.9.12"
  },
  "orig_nbformat": 4,
  "vscode": {
   "interpreter": {
    "hash": "7e04c614ea49137b728f9a88f47ebc62abd1dc770924cb0e56431acc2e9f8803"
   }
  }
 },
 "nbformat": 4,
 "nbformat_minor": 2
}
