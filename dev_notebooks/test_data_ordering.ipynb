{
 "cells": [
  {
   "cell_type": "code",
   "execution_count": null,
   "metadata": {},
   "outputs": [],
   "source": [
    "import numpy as np\n",
    "\n",
    "from nems import Model\n",
    "\n",
    "# These are in old-NEMS order (i.e. channels first, time second)\n",
    "spectrogram = np.random.rand(18, 10000)\n",
    "response = np.random.rand(1, 10000)\n",
    "single_channel_input = np.random.rand(10000,)\n",
    "data = {'stimulus': spectrogram, 'response': response}\n",
    "\n",
    "model = Model.from_keywords('wc.18x1.g-fir.1x15')\n",
    "_ = model.sample_from_priors()\n",
    "initial_parameters = model.get_parameter_vector()"
   ]
  },
  {
   "cell_type": "code",
   "execution_count": null,
   "metadata": {},
   "outputs": [],
   "source": [
    "# This should raise an error, because WeightChannels and FIR expect time on the\n",
    "# first axis.\n",
    "# TODO: make error message more informative.\n",
    "model.evaluate(spectrogram)"
   ]
  },
  {
   "cell_type": "code",
   "execution_count": null,
   "metadata": {},
   "outputs": [],
   "source": [
    "# This should not raise an error, because `Model.evaluate` re-orders the data.\n",
    "# But the final output should be the same shape as the input, b/c evaluate\n",
    "# should switch the order back. I *think* this is the most intuitive approach\n",
    "# since users with re-ordered data would presumably write their other code\n",
    "# (for plotting, preprocessing, etc) to match the shape of their data.\n",
    "# And of course, they can always skip the time_axis/channel_axis kwargs and\n",
    "# just re-order the data beforehand, but I think this is more convenient if\n",
    "# they're not too familiar with Numpy operations.\n",
    "# NOTE: Re-ordering the data before fitting will be faster, but it shouldn't be\n",
    "#       a big difference (an extra ~10 microseconds per loop on some random\n",
    "#       3D data). Tests on low iteration count showed a ~5% increase in time\n",
    "#       to fit.\n",
    "# TODO: add docs about this in `scripts/simple_fit`.\n",
    "data = model.evaluate(spectrogram, time_axis=1, channel_axis=0)\n",
    "data['input'].shape"
   ]
  },
  {
   "cell_type": "code",
   "execution_count": null,
   "metadata": {},
   "outputs": [],
   "source": [
    "data['output'].shape"
   ]
  },
  {
   "cell_type": "code",
   "execution_count": null,
   "metadata": {},
   "outputs": [],
   "source": [
    "# This should raise a ValueError, b/c WeightChannels expects the input to\n",
    "# have dimension (T, 1) instead of (T,)\n",
    "wc = model['wc']\n",
    "wc.evaluate(single_channel_input)"
   ]
  },
  {
   "cell_type": "code",
   "execution_count": null,
   "metadata": {},
   "outputs": [],
   "source": [
    "# But here there should be no error, because `Model.evaluate` adds a dummy axis.\n",
    "just_wc = Model.from_keywords('wc.1x1')\n",
    "data = just_wc.evaluate(single_channel_input)\n",
    "data['output'].shape"
   ]
  },
  {
   "cell_type": "code",
   "execution_count": null,
   "metadata": {},
   "outputs": [],
   "source": [
    "# Fitting should pass the appropriate options through to `Model.evaluate`.\n",
    "# TODO: add option to reset model parameters between fits,\n",
    "#       e.g. Model.initial_parameters()\n",
    "fitter_options = {'options': {'maxiter': 5, 'ftol': 1e3}}\n",
    "model.fit(spectrogram, target=response, time_axis=1, channel_axis=0,\n",
    "          fitter_options=fitter_options)"
   ]
  },
  {
   "cell_type": "code",
   "execution_count": null,
   "metadata": {},
   "outputs": [],
   "source": []
  }
 ],
 "metadata": {
  "kernelspec": {
   "display_name": "Python 3.9.12 ('nemsenv')",
   "language": "python",
   "name": "python3"
  },
  "language_info": {
   "codemirror_mode": {
    "name": "ipython",
    "version": 3
   },
   "file_extension": ".py",
   "mimetype": "text/x-python",
   "name": "python",
   "nbconvert_exporter": "python",
   "pygments_lexer": "ipython3",
   "version": "3.9.12"
  },
  "orig_nbformat": 4,
  "vscode": {
   "interpreter": {
    "hash": "34aaeff23f19c2a7c7cbe642234f2e2e8d7af1f23b524d8bd0f4b326f0682213"
   }
  }
 },
 "nbformat": 4,
 "nbformat_minor": 2
}
