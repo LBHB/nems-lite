{
 "cells": [
  {
   "cell_type": "code",
   "execution_count": null,
   "metadata": {},
   "outputs": [],
   "source": [
    "from nems.layers.base import Parameter\n",
    "\n",
    "test1 = Parameter('test1', bounds=(0, 1))\n",
    "test2 = Parameter('test2', bounds=(0, 1), zero_to_epsilon=True)"
   ]
  },
  {
   "cell_type": "code",
   "execution_count": null,
   "metadata": {},
   "outputs": [],
   "source": [
    "test1.bounds"
   ]
  },
  {
   "cell_type": "code",
   "execution_count": null,
   "metadata": {},
   "outputs": [],
   "source": [
    "test2.bounds"
   ]
  },
  {
   "cell_type": "code",
   "execution_count": null,
   "metadata": {},
   "outputs": [],
   "source": [
    "# Should throw an error\n",
    "test2.update(0)"
   ]
  },
  {
   "cell_type": "code",
   "execution_count": null,
   "metadata": {},
   "outputs": [],
   "source": [
    "# TODO: any other tests that sould go here? basically, concerned that some kind\n",
    "#       of rounding could happen with lower-precision data that would treat\n",
    "#       epsilon as 0. But it looks like numpy casts to the higher-precision\n",
    "#       number, so maybe not an issue.\n",
    "import numpy as np\n",
    "x = np.array(5., dtype=np.float16)\n",
    "x/test2.bounds[0]\n"
   ]
  },
  {
   "cell_type": "code",
   "execution_count": null,
   "metadata": {},
   "outputs": [],
   "source": []
  }
 ],
 "metadata": {
  "kernelspec": {
   "display_name": "Python 3.10.5 ('.nemsenv')",
   "language": "python",
   "name": "python3"
  },
  "language_info": {
   "codemirror_mode": {
    "name": "ipython",
    "version": 3
   },
   "file_extension": ".py",
   "mimetype": "text/x-python",
   "name": "python",
   "nbconvert_exporter": "python",
   "pygments_lexer": "ipython3",
   "version": "3.10.5"
  },
  "orig_nbformat": 4,
  "vscode": {
   "interpreter": {
    "hash": "4ae17e0c3cb5a88cc8facf29c9ec24ba5c55c2ac36f7fd8fd86b95dc7ac4e185"
   }
  }
 },
 "nbformat": 4,
 "nbformat_minor": 2
}
