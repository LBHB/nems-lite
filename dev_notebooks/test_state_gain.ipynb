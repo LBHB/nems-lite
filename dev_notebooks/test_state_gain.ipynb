{
 "cells": [
  {
   "cell_type": "code",
   "execution_count": null,
   "metadata": {},
   "outputs": [],
   "source": [
    "import numpy as np\n",
    "from nems import Model\n",
    "from nems.layers import StateGain\n",
    "\n",
    "stim = np.ones(shape=(10000,18))\n",
    "state = np.ones(shape=(10000,2)) + 1\n",
    "input = {'stim': stim, 'state': state}\n",
    "\n",
    "m = Model.from_keywords('wc.18x4.g-stategain.2x4-fir.4x15')\n",
    "sg = m['stategain']\n",
    "sg.input = [None, {'inputs': None, 'state': 'state'}]  # TODO: I don't like this\n",
    "sg"
   ]
  },
  {
   "cell_type": "code",
   "execution_count": null,
   "metadata": {},
   "outputs": [],
   "source": [
    "data = m.evaluate(input, input_name='stim', save_data_map=True)\n",
    "data"
   ]
  },
  {
   "cell_type": "code",
   "execution_count": null,
   "metadata": {},
   "outputs": [],
   "source": [
    "# TODO: pick some toy stimulus/state inputs and parameter values that would be\n",
    "#       better for testing (i.e. to make sure that weighted channels are being\n",
    "#       applied in the appropriate places)."
   ]
  },
  {
   "cell_type": "code",
   "execution_count": null,
   "metadata": {},
   "outputs": [],
   "source": [
    "# In this case, the single weighted state channel should be broadcast to all\n",
    "# stim channels.\n",
    "state2 = np.ones(shape=(10000,2)) + 1\n",
    "input2 = {'stim': stim, 'state': state2}\n",
    "m2 = Model.from_keywords('wc.18x4.g-stategain.2x1-fir.4x15')\n",
    "data2 = m2.evaluate(input2, input_name='stim', state_name='state')\n",
    "data2['output'].shape"
   ]
  },
  {
   "cell_type": "code",
   "execution_count": null,
   "metadata": {},
   "outputs": [],
   "source": [
    "# TODO: add this as an example somewhere of how to use nested input\n",
    "#       specification.\n",
    "\n",
    "pupil = np.random.rand(10000, 1)\n",
    "other = np.random.rand(10000, 3)\n",
    "data = {'stim': stim, 'pupil': pupil, 'other': other}\n",
    "\n",
    "# Applying directly to spectrogram, so output should be (10K,18)\n",
    "# State kwarg for StateGain.evaluate should accept list, and\n",
    "# concatenate the contained arrays.\n",
    "model = Model(\n",
    "    StateGain(shape=(4,18),\n",
    "        input=['stim', {'state': ['pupil', 'other']}]\n",
    "        )\n",
    ")\n",
    "data3 = model.evaluate(data)\n",
    "data3['output'].shape"
   ]
  }
 ],
 "metadata": {
  "kernelspec": {
   "display_name": "Python 3.9.12 ('nemsenv')",
   "language": "python",
   "name": "python3"
  },
  "language_info": {
   "codemirror_mode": {
    "name": "ipython",
    "version": 3
   },
   "file_extension": ".py",
   "mimetype": "text/x-python",
   "name": "python",
   "nbconvert_exporter": "python",
   "pygments_lexer": "ipython3",
   "version": "3.9.12"
  },
  "orig_nbformat": 4,
  "vscode": {
   "interpreter": {
    "hash": "34aaeff23f19c2a7c7cbe642234f2e2e8d7af1f23b524d8bd0f4b326f0682213"
   }
  }
 },
 "nbformat": 4,
 "nbformat_minor": 2
}
