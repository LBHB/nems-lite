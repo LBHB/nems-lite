{
 "cells": [
  {
   "cell_type": "code",
   "execution_count": 1,
   "metadata": {},
   "outputs": [
    {
     "data": {
      "text/plain": [
       "StateGain(shape=(2, 4))\n",
       "================================\n",
       ".parameters:\n",
       "\n",
       "Parameter(name=gain, shape=(2, 4))\n",
       "----------------\n",
       ".prior:     Normal(μ=array(2, 4), σ=array(2, 4))\n",
       ".bounds:    (-inf, inf)\n",
       ".is_frozen: False\n",
       ".values:\n",
       "[[1. 1. 1. 1.]\n",
       " [0. 0. 0. 0.]]\n",
       "----------------\n",
       "Index: 0\n",
       "----------------\n",
       "\n",
       "Parameter(name=offset, shape=(2, 4))\n",
       "----------------\n",
       ".prior:     Normal(μ=array(2, 4), σ=array(2, 4))\n",
       ".bounds:    (-inf, inf)\n",
       ".is_frozen: False\n",
       ".values:\n",
       "[[0. 0. 0. 0.]\n",
       " [0. 0. 0. 0.]]\n",
       "----------------\n",
       "Index: 0\n",
       "----------------\n",
       "\n",
       "================================"
      ]
     },
     "execution_count": 1,
     "metadata": {},
     "output_type": "execute_result"
    }
   ],
   "source": [
    "import numpy as np\n",
    "from nems import Model\n",
    "\n",
    "stim = np.ones(shape=(10000,18))\n",
    "state = np.ones(shape=(10000,2)) + 1\n",
    "input = {'stim': stim, 'state': state}\n",
    "\n",
    "m = Model.from_keywords('wc.18x4.g-stategain.2x4-fir.4x15')\n",
    "m['stategain']"
   ]
  },
  {
   "cell_type": "code",
   "execution_count": 2,
   "metadata": {},
   "outputs": [
    {
     "data": {
      "text/plain": [
       "(10000, 1)"
      ]
     },
     "execution_count": 2,
     "metadata": {},
     "output_type": "execute_result"
    }
   ],
   "source": [
    "data = m.evaluate(input, input_name='stim', state_name='state')\n",
    "data['output'].shape"
   ]
  },
  {
   "cell_type": "code",
   "execution_count": null,
   "metadata": {},
   "outputs": [],
   "source": [
    "# TODO: pick some toy stimulus/state inputs and parameter values that would be\n",
    "#       better for testing (i.e. to make sure that weighted channels are being\n",
    "#       applied in the appropriate places)."
   ]
  },
  {
   "cell_type": "code",
   "execution_count": 5,
   "metadata": {},
   "outputs": [
    {
     "data": {
      "text/plain": [
       "(10000, 1)"
      ]
     },
     "execution_count": 5,
     "metadata": {},
     "output_type": "execute_result"
    }
   ],
   "source": [
    "# In this case, the single weighted state channel should be broadcast to all\n",
    "# stim channels.\n",
    "state2 = np.ones(shape=(10000,2)) + 1\n",
    "input2 = {'stim': stim, 'state': state2}\n",
    "m2 = Model.from_keywords('wc.18x4.g-stategain.2x1-fir.4x15')\n",
    "data2 = m2.evaluate(input2, input_name='stim', state_name='state')\n",
    "data2['output'].shape"
   ]
  },
  {
   "cell_type": "code",
   "execution_count": null,
   "metadata": {},
   "outputs": [],
   "source": []
  }
 ],
 "metadata": {
  "kernelspec": {
   "display_name": "Python 3.9.12 ('nemsenv')",
   "language": "python",
   "name": "python3"
  },
  "language_info": {
   "codemirror_mode": {
    "name": "ipython",
    "version": 3
   },
   "file_extension": ".py",
   "mimetype": "text/x-python",
   "name": "python",
   "nbconvert_exporter": "python",
   "pygments_lexer": "ipython3",
   "version": "3.9.12"
  },
  "orig_nbformat": 4,
  "vscode": {
   "interpreter": {
    "hash": "34aaeff23f19c2a7c7cbe642234f2e2e8d7af1f23b524d8bd0f4b326f0682213"
   }
  }
 },
 "nbformat": 4,
 "nbformat_minor": 2
}
