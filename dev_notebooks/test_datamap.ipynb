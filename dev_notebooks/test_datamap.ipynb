{
 "cells": [
  {
   "cell_type": "code",
   "execution_count": null,
   "metadata": {},
   "outputs": [],
   "source": [
    "# TODO: test new model.evaluate, DataMap\n",
    "import numpy as np\n",
    "\n",
    "from nems import Model\n",
    "from nems.layers import Layer\n",
    "\n",
    "# None, 'str', and ['list'] should show up in DataMap.args\n",
    "# {'dict'} should show up in DataMap.kwargs\n",
    "# Both should statements should still work for nested structures, and ordering\n",
    "# shouldn't matter.\n",
    "input_tests = [\n",
    "    None,\n",
    "    'str',\n",
    "    ['list1'],\n",
    "    [None, 'list2'],\n",
    "    ['list3', None],\n",
    "    ['list4', ['list5', 'list5']],\n",
    "    {'dict1': 'x', 'dict2': 'y'},\n",
    "    {'dict3': None},\n",
    "    ['list6', {'dict4': 'z'}]\n",
    "    ]\n",
    "\n",
    "output_tests = [\n",
    "    None,\n",
    "    'str',\n",
    "    ['list1'],\n",
    "    ['list2', 'list3'],\n",
    "]\n",
    "\n",
    "class PassThrough(Layer):\n",
    "    def evaluate(self, input):\n",
    "        out = np.array([[f'from {self.name}']])\n",
    "        if isinstance(input, (list)):\n",
    "            out = [out]*len(input)\n",
    "        return out\n",
    "\n",
    "class Duplicate(Layer):\n",
    "    def evaluate(self, input):\n",
    "        return [np.array([[f'from {self.name}']])]*2\n",
    "\n",
    "class JustOne(Layer):\n",
    "    def evaluate(self, input_list):\n",
    "        assert isinstance(input_list, list)\n",
    "        return np.array([[f'from {self.name}']])\n"
   ]
  },
  {
   "cell_type": "code",
   "execution_count": null,
   "metadata": {},
   "outputs": [],
   "source": [
    "for input in input_tests:\n",
    "    print(f'input is: {input}')\n",
    "    print(PassThrough(input=input).get_input_map())"
   ]
  },
  {
   "cell_type": "code",
   "execution_count": null,
   "metadata": {},
   "outputs": [],
   "source": [
    "# Last one should raise an error since there's only one output\n",
    "# but Layer.output has 2 entries\n",
    "for output in output_tests:\n",
    "    print(f'output is: {output}')\n",
    "    layer = PassThrough(output=output)\n",
    "    _map = layer.get_input_map()\n",
    "    _map.map_outputs('output')\n",
    "    print(_map)"
   ]
  },
  {
   "cell_type": "code",
   "execution_count": null,
   "metadata": {},
   "outputs": [],
   "source": [
    "input = {'input': np.array([['input']])}\n",
    "\n",
    "model = Model()\n",
    "model.add_layers(\n",
    "    # input should be 'input', the Model default\n",
    "    PassThrough(name='p1', input=None, output='str'), \n",
    "    PassThrough(name='p2', input='str', output=['list1']),\n",
    "    PassThrough(name='p3', input=None, output=None),\n",
    "    Duplicate(name='d1', input=None, output=['list2', 'list3']),\n",
    "    # should map to ['str', 'str.1']. need double [[]] b/c we want a list as a\n",
    "    # single argument, not two list elements as two arguments\n",
    "    PassThrough(name='p4', input=[['list2', 'list3']], output='str'),\n",
    "    # should be same as input=None in this case, and output should map to\n",
    "    # 'output' (the Model default). In this case, only need a single [] b/c\n",
    "    # the list is already mapped to a single argument (named 'input_list').\n",
    "    JustOne(name='i1', input={'input_list': ['str', 'str.1']}, output=None)  \n",
    ")\n",
    "\n",
    "eval_data = model.evaluate(input)\n",
    "dm = eval_data.pop('_data_map')\n",
    "dm"
   ]
  },
  {
   "cell_type": "code",
   "execution_count": null,
   "metadata": {},
   "outputs": [],
   "source": [
    "model.print_layer_data(input)"
   ]
  },
  {
   "cell_type": "code",
   "execution_count": null,
   "metadata": {},
   "outputs": [],
   "source": [
    "import numpy as np\n",
    "from nems import Model\n",
    "# try with random data\n",
    "input  = {'stimulus': np.random.rand(100, 18),\n",
    "          'pupil': np.random.rand(100, 1)}\n",
    "eval_kwargs = {'input_name': 'stimulus', 'state_name': 'pupil'}\n",
    "model2 = Model.from_keywords('wc.18x4.g-stategain.1x4-fir.4x15-dexp')\n",
    "model2.print_layer_data(input, show_full_data=False, **eval_kwargs)"
   ]
  },
  {
   "cell_type": "code",
   "execution_count": null,
   "metadata": {},
   "outputs": [],
   "source": [
    "# TODO: add docs for new evaluate stuff\n",
    "# TODO: test updated changes"
   ]
  },
  {
   "cell_type": "code",
   "execution_count": null,
   "metadata": {},
   "outputs": [],
   "source": []
  }
 ],
 "metadata": {
  "kernelspec": {
   "display_name": "Python 3.9.12 ('mkltest')",
   "language": "python",
   "name": "python3"
  },
  "language_info": {
   "codemirror_mode": {
    "name": "ipython",
    "version": 3
   },
   "file_extension": ".py",
   "mimetype": "text/x-python",
   "name": "python",
   "nbconvert_exporter": "python",
   "pygments_lexer": "ipython3",
   "version": "3.9.12"
  },
  "orig_nbformat": 4,
  "vscode": {
   "interpreter": {
    "hash": "7e04c614ea49137b728f9a88f47ebc62abd1dc770924cb0e56431acc2e9f8803"
   }
  }
 },
 "nbformat": 4,
 "nbformat_minor": 2
}
