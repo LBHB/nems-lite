{
 "cells": [
  {
   "cell_type": "code",
   "execution_count": 4,
   "metadata": {},
   "outputs": [
    {
     "data": {
      "text/plain": [
       "Model()\n",
       "~~~~~~~~~~~~~~~~~~~~~~~~~~~~~~~~~~~~~~~~~~~~~~~~~~~~~~~~~~~~~~~~\n",
       ".layers:\n",
       "\n",
       "================================\n",
       "GaussianWeightChannels(shape=(18, 4))\n",
       "================================\n",
       ".parameters:\n",
       "\n",
       "Parameter(name=mean, shape=(4,))\n",
       "----------------\n",
       ".prior:     Normal(μ=array(4), σ=array(4))\n",
       ".bounds:    (0, 1)\n",
       ".is_frozen: False\n",
       ".values:\n",
       "[0.31576161 0.81496273 0.47758842 0.83612172]\n",
       "----------------\n",
       "Index: 0\n",
       "----------------\n",
       "\n",
       "Parameter(name=sd, shape=(4,))\n",
       "----------------\n",
       ".prior:     HalfNormal(σ=array(4))\n",
       ".bounds:    (1.1920929e-07, inf)\n",
       ".is_frozen: False\n",
       ".values:\n",
       "[0.1604208  0.24377576 0.52829346 0.19462368]\n",
       "----------------\n",
       "Index: 0\n",
       "----------------\n",
       "\n",
       "================================\n",
       "FIR(shape=(4, 15, 3))\n",
       "================================\n",
       ".parameters:\n",
       "\n",
       "Parameter(name=coefficients, shape=(4, 15, 3))\n",
       "----------------\n",
       ".prior:     Normal(μ=array(4, 15, 3), σ=array(4, 15, 3))\n",
       ".bounds:    (-inf, inf)\n",
       ".is_frozen: False\n",
       ".values:\n",
       "[[[-1.20977863e+00 -8.48839360e-01  4.97012781e-03]\n",
       "  [ 1.00221047e+00 -2.46081265e-01 -7.69008580e-01]\n",
       "  [ 7.08640844e-01 -7.36812596e-01  6.82351514e-01]\n",
       "  [-3.91270197e-01 -5.62635642e-01 -2.53259104e+00]\n",
       "  [ 4.13343821e-01  5.35315993e-01 -5.41018240e-01]\n",
       "  [-1.25716760e-01 -1.94758142e+00  9.49252271e-01]\n",
       "  [ 1.03739388e+00  2.83932743e-01 -2.11045099e+00]\n",
       "  [ 9.24370595e-01  1.64755053e-01 -1.72685979e+00]\n",
       "  [-1.63865208e-01 -2.32843840e+00  1.28973926e+00]\n",
       "  [-1.18466580e+00 -1.51547552e+00 -8.95749500e-01]\n",
       "  [-5.99532022e-01  2.33553560e-01 -1.60756984e+00]\n",
       "  [-1.31830843e+00 -3.40965331e-02  3.04366024e-01]\n",
       "  [-1.06804562e-01  1.63066383e+00  1.98323328e+00]\n",
       "  [ 1.61861073e+00  1.83007138e+00  1.22120591e+00]\n",
       "  [ 5.85930306e-01 -6.03024915e-01 -2.80531165e-01]]\n",
       "\n",
       " [[-2.09283139e-01  6.04933052e-01  9.96335444e-01]\n",
       "  [ 9.79901401e-01  4.31971747e-01 -1.50031445e+00]\n",
       "  [-2.27344620e-01  4.16700860e-01 -2.03914487e-01]\n",
       "  [ 3.77882859e-02 -2.57489879e-01  7.54686270e-01]\n",
       "  [ 4.39981369e-01  1.76471870e-01 -1.95072109e+00]\n",
       "  [-9.98584980e-01  1.03783725e-01 -1.65923202e+00]\n",
       "  [-2.88990504e+00  4.53409991e-01  3.14535918e-01]\n",
       "  [-5.83677188e-01 -1.14889832e+00  3.05918701e-01]\n",
       "  [ 2.04170606e-03  1.64477627e+00  7.26471656e-01]\n",
       "  [ 9.40759771e-01 -1.39845790e+00  6.21161762e-01]\n",
       "  [ 4.92340237e-01  2.79678709e-01 -7.78216121e-01]\n",
       "  [ 1.84322759e+00  2.11916426e-02 -1.02821728e+00]\n",
       "  [ 6.64571899e-01  1.53990148e+00 -1.08836144e+00]\n",
       "  [ 6.55636896e-01  8.08086055e-01  1.73376006e-01]\n",
       "  [ 1.44793718e-01 -7.46113202e-01 -8.25827881e-01]]\n",
       "\n",
       " [[ 8.06254486e-01  1.45820071e-01  4.98413079e-01]\n",
       "  [ 4.45363040e-01 -1.91662540e-01  4.86972775e-01]\n",
       "  [-1.95284553e+00  1.19740835e+00  5.37254658e-01]\n",
       "  [-1.12558960e+00 -1.03746936e+00 -2.01401324e+00]\n",
       "  [ 1.11618076e+00 -1.05503055e-01 -1.13520059e+00]\n",
       "  [ 5.80614364e-01 -7.40366076e-01  6.36583274e-01]\n",
       "  [ 1.62900221e-01  2.99697819e-01  2.29123668e-01]\n",
       "  [ 8.47736246e-01  7.33989314e-01 -9.17580505e-01]\n",
       "  [ 8.51685805e-01 -1.05697533e+00  1.49024378e+00]\n",
       "  [-1.59944802e+00 -1.37307203e+00  1.10195386e+00]\n",
       "  [-1.56733731e+00 -2.38412048e+00 -1.37067868e-01]\n",
       "  [ 3.30914039e-01  4.37177194e-01  6.95184391e-01]\n",
       "  [-3.87466896e-01 -4.95414213e-01  1.96232193e-01]\n",
       "  [-6.32446766e-01  2.54367192e-01  1.66428445e+00]\n",
       "  [-1.77468328e+00  2.48260394e-01 -1.58050016e-01]]\n",
       "\n",
       " [[-1.10869788e+00  3.35783504e-01  2.50905776e-02]\n",
       "  [ 1.42556835e+00  3.13507691e+00  8.58619612e-01]\n",
       "  [ 1.20138967e+00  1.30140690e+00  5.18080666e-01]\n",
       "  [-3.92118436e-01 -1.19899298e-01 -1.69697129e+00]\n",
       "  [ 4.94474666e-01  1.02127069e+00 -4.43779559e-01]\n",
       "  [-1.79448683e+00  1.09120638e+00  1.95189459e+00]\n",
       "  [-9.87913274e-01 -1.20414674e+00 -1.02127705e-01]\n",
       "  [ 1.14119917e+00 -2.09738557e+00  3.55787655e-01]\n",
       "  [ 4.24873711e-01 -2.70808239e-01 -9.42932647e-01]\n",
       "  [ 8.15721734e-02  9.34205820e-01 -4.82602134e-01]\n",
       "  [-9.09962615e-01 -2.14423839e+00  2.90358043e-01]\n",
       "  [ 7.80058206e-01  1.44053050e+00  1.16871341e+00]\n",
       "  [ 5.57035375e-01 -2.40253468e-01  1.52236661e-01]\n",
       "  [ 6.70154099e-01 -2.55094382e-01 -1.05066489e+00]\n",
       "  [-5.51892581e-01 -1.25432462e+00  4.34928265e-01]]]\n",
       "----------------\n",
       "Index: 0\n",
       "----------------\n",
       "\n",
       "================================\n",
       "~~~~~~~~~~~~~~~~~~~~~~~~~~~~~~~~~~~~~~~~~~~~~~~~~~~~~~~~~~~~~~~~"
      ]
     },
     "execution_count": 4,
     "metadata": {},
     "output_type": "execute_result"
    }
   ],
   "source": [
    "import numpy as np\n",
    "\n",
    "from nems import Model\n",
    "\n",
    "x = np.random.rand(10000, 18)  # fake spectrogram\n",
    "# TODO: something still isn't matching up right when multiple outputs are used,\n",
    "#       more testing needed.\n",
    "m = Model.from_keywords('wc.18x4.g-fir.4x15x3')\n",
    "# TODO: currently all the sample/mean methods still return the samples even if\n",
    "#       inplace=True (the default for model and layer methods). Did that so that\n",
    "#       other code wouldn't need to check if something got returned or not, but\n",
    "#       maybe it would be more intuitive if nothing got returned. Look at pandas\n",
    "#       code again, see what their default is when inplace=True.\n",
    "_ = m.sample_from_priors()\n",
    "m"
   ]
  },
  {
   "cell_type": "code",
   "execution_count": 21,
   "metadata": {},
   "outputs": [
    {
     "data": {
      "text/plain": [
       "0"
      ]
     },
     "execution_count": 21,
     "metadata": {},
     "output_type": "execute_result"
    }
   ],
   "source": [
    "wc = m.layers[0]\n",
    "fir = m.layers[1]\n",
    "# TODO: have wc, fir not return list if only one?\n",
    "#       wastes operations in Model.evaluate but would\n",
    "#       make testing of individual layers more intuitive\n",
    "y = wc.evaluate(x)[0]\n",
    "z1 = fir.evaluate(y)[0]\n",
    "z2 = fir.old_evaluate(y)[0]\n",
    "np.sum(np.isnan(z1)) + np.sum(np.isnan(z2))  # nans always !="
   ]
  },
  {
   "cell_type": "code",
   "execution_count": 25,
   "metadata": {},
   "outputs": [
    {
     "data": {
      "text/plain": [
       "10000"
      ]
     },
     "execution_count": 25,
     "metadata": {},
     "output_type": "execute_result"
    }
   ],
   "source": [
    "np.sum(np.round(z1[:,0][:,np.newaxis], 10) != np.round(z2, 10))"
   ]
  },
  {
   "cell_type": "code",
   "execution_count": null,
   "metadata": {},
   "outputs": [],
   "source": [
    "import numpy as np\n",
    "\n",
    "from nems.layers.filter import get_zi\n",
    "\n",
    "# TODO: looks like this just always returns zeros with 1 less entry than filter?\n",
    "x = np.random.rand(1230492,)\n",
    "coefficients = np.random.rand(17,)\n",
    "zi = get_zi(coefficients, x)\n",
    "zi.shape"
   ]
  },
  {
   "cell_type": "code",
   "execution_count": null,
   "metadata": {},
   "outputs": [],
   "source": []
  }
 ],
 "metadata": {
  "kernelspec": {
   "display_name": "Python 3.9.12 ('nemsenv')",
   "language": "python",
   "name": "python3"
  },
  "language_info": {
   "codemirror_mode": {
    "name": "ipython",
    "version": 3
   },
   "file_extension": ".py",
   "mimetype": "text/x-python",
   "name": "python",
   "nbconvert_exporter": "python",
   "pygments_lexer": "ipython3",
   "version": "3.9.12"
  },
  "orig_nbformat": 4,
  "vscode": {
   "interpreter": {
    "hash": "34aaeff23f19c2a7c7cbe642234f2e2e8d7af1f23b524d8bd0f4b326f0682213"
   }
  }
 },
 "nbformat": 4,
 "nbformat_minor": 2
}
