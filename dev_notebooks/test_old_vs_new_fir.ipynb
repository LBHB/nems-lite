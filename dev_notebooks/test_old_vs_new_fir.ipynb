{
 "cells": [
  {
   "cell_type": "code",
   "execution_count": null,
   "metadata": {},
   "outputs": [],
   "source": [
    "import numpy as np\n",
    "\n",
    "from nems import Model\n",
    "\n",
    "x = np.random.rand(10000, 18)  # fake spectrogram\n",
    "m = Model.from_keywords('wc.18x4.g-fir.4x15x10')\n",
    "# TODO: currently all the sample/mean methods still return the samples even if\n",
    "#       inplace=True (the default for model and layer methods). Did that so that\n",
    "#       other code wouldn't need to check if something got returned or not, but\n",
    "#       maybe it would be more intuitive if nothing got returned. Look at pandas\n",
    "#       code again, see what their default is when inplace=True.\n",
    "_ = m.sample_from_priors()\n",
    "m"
   ]
  },
  {
   "cell_type": "code",
   "execution_count": null,
   "metadata": {},
   "outputs": [],
   "source": [
    "wc = m.layers[0]\n",
    "fir = m.layers[1]\n",
    "y = wc.evaluate(x)[0]\n",
    "z1 = fir.evaluate(y)[0]\n",
    "z2 = fir.old_evaluate(y)[0]\n",
    "np.sum(np.isnan(z1)) + np.sum(np.isnan(z2))  # nans always !="
   ]
  },
  {
   "cell_type": "code",
   "execution_count": null,
   "metadata": {},
   "outputs": [],
   "source": [
    "np.sum(np.round(z1, 9) != np.round(z2, 9))"
   ]
  },
  {
   "cell_type": "code",
   "execution_count": null,
   "metadata": {},
   "outputs": [],
   "source": [
    "import matplotlib.pyplot as plt\n",
    "fig, ax = plt.subplots(1,1)\n",
    "ax.plot(z1[:100,0], c='black')\n",
    "ax.plot(z2[:100,0], c='red', linestyle='dashed')"
   ]
  },
  {
   "cell_type": "code",
   "execution_count": null,
   "metadata": {},
   "outputs": [],
   "source": [
    "import numpy as np\n",
    "\n",
    "from nems.layers.filter import get_zi\n",
    "\n",
    "# TODO: looks like this just always returns zeros with 1 less entry than filter?\n",
    "x = np.random.rand(1230492,)\n",
    "coefficients = np.random.rand(17,)\n",
    "zi = get_zi(coefficients, x)\n",
    "zi.shape"
   ]
  },
  {
   "cell_type": "code",
   "execution_count": null,
   "metadata": {},
   "outputs": [],
   "source": []
  }
 ],
 "metadata": {
  "kernelspec": {
   "display_name": "Python 3.9.12 ('nemsenv')",
   "language": "python",
   "name": "python3"
  },
  "language_info": {
   "codemirror_mode": {
    "name": "ipython",
    "version": 3
   },
   "file_extension": ".py",
   "mimetype": "text/x-python",
   "name": "python",
   "nbconvert_exporter": "python",
   "pygments_lexer": "ipython3",
   "version": "3.9.12"
  },
  "orig_nbformat": 4,
  "vscode": {
   "interpreter": {
    "hash": "34aaeff23f19c2a7c7cbe642234f2e2e8d7af1f23b524d8bd0f4b326f0682213"
   }
  }
 },
 "nbformat": 4,
 "nbformat_minor": 2
}
