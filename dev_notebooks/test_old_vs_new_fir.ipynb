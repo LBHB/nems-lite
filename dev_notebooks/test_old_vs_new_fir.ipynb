{
 "cells": [
  {
   "cell_type": "code",
   "execution_count": null,
   "metadata": {},
   "outputs": [],
   "source": [
    "import numpy as np\n",
    "\n",
    "from nems import Model\n",
    "\n",
    "x = np.random.rand(10000, 18)  # fake spectrogram\n",
    "# TODO: Since we're switching to defaulting to time as first axis, would\n",
    "#       it make sense to transpose the fir shape, or are we just too used to it\n",
    "#       by this point? E.g. for this x.shape, 18x4 is the actual shape used for\n",
    "#       x @ wc.coefficients. But for fir, have to do convolve(x, fir.coefficients.T)\n",
    "#       (i.e. really using 15x4, not 4x15). But at the same time, the current\n",
    "#       format is intuitive for making sure dimensions line up correctly\n",
    "#       (i.e. the 4's have to match up in the adjacent layers)\n",
    "m = Model.from_keywords('wc.18x4.g-fir.4x15')\n",
    "# TODO: currently all the sample/mean methods still return the samples even if\n",
    "#       inplace=True (the default for model and layer methods). Did that so that\n",
    "#       other code wouldn't need to check if something got returned or not, but\n",
    "#       maybe it would be more intuitive if nothing got returned. Look at pandas\n",
    "#       code again, see what their default is when inplace=True.\n",
    "_ = m.sample_from_priors()\n",
    "m"
   ]
  },
  {
   "cell_type": "code",
   "execution_count": null,
   "metadata": {},
   "outputs": [],
   "source": [
    "wc = m.layers[0]\n",
    "fir = m.layers[1]\n",
    "# TODO: have wc, fir not return list if only one?\n",
    "#       wastes operations in Model.evaluate but would\n",
    "#       make testing of individual layers more intuitive\n",
    "y = wc.evaluate(x)[0]\n",
    "z1 = fir.evaluate(y)[0]\n",
    "z2 = fir.old_evaluate(y)[0]\n",
    "np.sum(np.isnan(z1)) + np.sum(np.isnan(z2))  # nans always !="
   ]
  },
  {
   "cell_type": "code",
   "execution_count": null,
   "metadata": {},
   "outputs": [],
   "source": [
    "np.sum(np.round(z1, 10) != np.round(z2, 10))"
   ]
  },
  {
   "cell_type": "code",
   "execution_count": null,
   "metadata": {},
   "outputs": [],
   "source": [
    "import numpy as np\n",
    "\n",
    "from nems.layers.filter import get_zi\n",
    "\n",
    "# TODO: looks like this just always returns zeros with 1 less entry than filter?\n",
    "x = np.random.rand(1230492,)\n",
    "coefficients = np.random.rand(17,)\n",
    "zi = get_zi(coefficients, x)\n",
    "zi.shape"
   ]
  },
  {
   "cell_type": "code",
   "execution_count": null,
   "metadata": {},
   "outputs": [],
   "source": []
  }
 ],
 "metadata": {
  "kernelspec": {
   "display_name": "Python 3.10.5 ('.nemsenv')",
   "language": "python",
   "name": "python3"
  },
  "language_info": {
   "codemirror_mode": {
    "name": "ipython",
    "version": 3
   },
   "file_extension": ".py",
   "mimetype": "text/x-python",
   "name": "python",
   "nbconvert_exporter": "python",
   "pygments_lexer": "ipython3",
   "version": "3.10.5"
  },
  "orig_nbformat": 4,
  "vscode": {
   "interpreter": {
    "hash": "4ae17e0c3cb5a88cc8facf29c9ec24ba5c55c2ac36f7fd8fd86b95dc7ac4e185"
   }
  }
 },
 "nbformat": 4,
 "nbformat_minor": 2
}
