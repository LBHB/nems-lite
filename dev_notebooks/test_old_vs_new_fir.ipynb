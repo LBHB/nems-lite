{
 "cells": [
  {
   "cell_type": "code",
   "execution_count": null,
   "metadata": {},
   "outputs": [],
   "source": [
    "import numpy as np\n",
    "\n",
    "from nems import Model\n",
    "from nems.layers import FIR, STRF\n",
    "\n",
    "x = np.random.rand(10000, 18)  # fake spectrogram\n",
    "m = Model.from_keywords('wc.18x4.g-fir.4x15x10')\n",
    "# TODO: currently all the sample/mean methods still return the samples even if\n",
    "#       inplace=True (the default for model and layer methods). Did that so that\n",
    "#       other code wouldn't need to check if something got returned or not, but\n",
    "#       maybe it would be more intuitive if nothing got returned. Look at pandas\n",
    "#       code again, see what their default is when inplace=True.\n",
    "_ = m.sample_from_priors()\n",
    "m"
   ]
  },
  {
   "cell_type": "code",
   "execution_count": null,
   "metadata": {},
   "outputs": [],
   "source": [
    "wc = m.layers[0]\n",
    "fir = m.layers[1]\n",
    "y = wc.evaluate(x)\n",
    "z1 = fir.evaluate(y)\n",
    "z2 = fir.old_evaluate(y)\n",
    "np.sum(np.isnan(z1)) + np.sum(np.isnan(z2))  # nans always !="
   ]
  },
  {
   "cell_type": "code",
   "execution_count": null,
   "metadata": {},
   "outputs": [],
   "source": [
    "np.sum(np.round(z1, 9) != np.round(z2, 9))"
   ]
  },
  {
   "cell_type": "code",
   "execution_count": null,
   "metadata": {},
   "outputs": [],
   "source": [
    "import matplotlib.pyplot as plt\n",
    "fig, ax = plt.subplots(1,1)\n",
    "ax.plot(z1[:100,0], c='black')\n",
    "ax.plot(z2[:100,0], c='red', linestyle='dashed')"
   ]
  },
  {
   "cell_type": "code",
   "execution_count": null,
   "metadata": {},
   "outputs": [],
   "source": [
    "# Should work directly on the fake spectrogram\n",
    "# (FIR would still work too, STRF is just an alias)\n",
    "strf = STRF(shape=(18,25,4))\n",
    "out = strf.evaluate(x)\n",
    "out[0].shape\n"
   ]
  },
  {
   "cell_type": "code",
   "execution_count": null,
   "metadata": {},
   "outputs": [],
   "source": [
    "# TODO: well... testing this case, now I'm thinking it might be better to\n",
    "#       switch the time-channel specification after all, to match the data.\n",
    "#       Would certainly be much more intuitive for this example to\n",
    "#       use shape=(25, 10, 10, 5). Maybe not that big of an issue, but we should\n",
    "#       definitely decide on that soon before the amount of documentation to\n",
    "#       update gets a lot larger.\n",
    "# NOTE: this starts to take a lot longer as the dimensionality increases, but\n",
    "#       that must be in the scipy implementation (and is probably unavoidable).\n",
    "#       I did test with 4-D data as well, but for sake of time it's probably\n",
    "#       fine to just stick with 3D for test scripts.\n",
    "threeD = np.random.rand(10000, 10, 10)\n",
    "fir3d = FIR(shape=(10, 25, 10, 5))  # 25 is still time bins, 5 is n filters\n",
    "out3d = fir3d.evaluate(threeD)\n",
    "out3d[0].shape  # should be (10000, 5)"
   ]
  },
  {
   "cell_type": "code",
   "execution_count": null,
   "metadata": {},
   "outputs": [],
   "source": []
  }
 ],
 "metadata": {
  "kernelspec": {
   "display_name": "Python 3.9.12 ('nemsenv')",
   "language": "python",
   "name": "python3"
  },
  "language_info": {
   "codemirror_mode": {
    "name": "ipython",
    "version": 3
   },
   "file_extension": ".py",
   "mimetype": "text/x-python",
   "name": "python",
   "nbconvert_exporter": "python",
   "pygments_lexer": "ipython3",
   "version": "3.9.12"
  },
  "orig_nbformat": 4,
  "vscode": {
   "interpreter": {
    "hash": "34aaeff23f19c2a7c7cbe642234f2e2e8d7af1f23b524d8bd0f4b326f0682213"
   }
  }
 },
 "nbformat": 4,
 "nbformat_minor": 2
}
