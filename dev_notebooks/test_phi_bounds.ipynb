{
 "cells": [
  {
   "cell_type": "code",
   "execution_count": null,
   "metadata": {},
   "outputs": [],
   "source": [
    "import numpy as np\n",
    "from nems import Model\n",
    "\n",
    "m = Model.from_keywords('wc.18x4.g')  # 8 parameters\n",
    "vector = np.array([8, 7, 6, 5, 4, 3, 2, 1])/4\n",
    "phi = m['wc'].parameters\n",
    "phi.bounds"
   ]
  },
  {
   "cell_type": "code",
   "execution_count": null,
   "metadata": {},
   "outputs": [],
   "source": [
    "# Should be False\n",
    "phi.within_bounds(vector)"
   ]
  },
  {
   "cell_type": "code",
   "execution_count": null,
   "metadata": {},
   "outputs": [],
   "source": [
    "# First half out of bounds, second half within bounds\n",
    "phi.get_indices_outof_range(vector)"
   ]
  },
  {
   "cell_type": "code",
   "execution_count": null,
   "metadata": {},
   "outputs": [],
   "source": [
    "# TODO: what else to test?"
   ]
  }
 ],
 "metadata": {
  "kernelspec": {
   "display_name": "Python 3.10.5 ('.nemsenv')",
   "language": "python",
   "name": "python3"
  },
  "language_info": {
   "codemirror_mode": {
    "name": "ipython",
    "version": 3
   },
   "file_extension": ".py",
   "mimetype": "text/x-python",
   "name": "python",
   "nbconvert_exporter": "python",
   "pygments_lexer": "ipython3",
   "version": "3.10.5"
  },
  "orig_nbformat": 4,
  "vscode": {
   "interpreter": {
    "hash": "4ae17e0c3cb5a88cc8facf29c9ec24ba5c55c2ac36f7fd8fd86b95dc7ac4e185"
   }
  }
 },
 "nbformat": 4,
 "nbformat_minor": 2
}
